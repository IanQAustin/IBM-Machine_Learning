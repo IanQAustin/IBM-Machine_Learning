{
 "cells": [
  {
   "cell_type": "markdown",
   "metadata": {},
   "source": [
    "## Machine Learning - Classification - Course Project"
   ]
  },
  {
   "cell_type": "markdown",
   "metadata": {},
   "source": [
    "The course project will both review John Hollinger's NBA Advanced Statistics, by player, and attempt to create a classifier where the Advanced Statistics will be used to attempt to classify a player's salary. The salary will be broken into different 'bands'"
   ]
  },
  {
   "cell_type": "markdown",
   "metadata": {},
   "source": [
    "****Data dictionary****:\n",
    "\n",
    "Each observation represents an individual player's Hollinger stats for that season. Columns and their appropriate definition follows as detailed by ESPN.com are as follows:\n",
    "\n",
    "rank that player's PER rank for that given season\n",
    "\n",
    "ts% True Shooting Percentage - what a player's shooting percentage would be if we accounted for free throws and 3-pointers. True Shooting Percentage = Total points / [(FGA + (0.44 x FTA)]\n",
    "\n",
    "ast Assist Ratio - the percentage of a player's possessions that ends in an assist. Assist Ratio = (Assists x 100) divided by [(FGA + (FTA x 0.44) + Assists + Turnovers]\n",
    "\n",
    "to Turnover Ratio - the percentage of a player's possessions that end in a turnover. Turnover Ratio = (Turnover x 100) divided by [(FGA + (FTA x 0.44) + Assists + Turnovers]\n",
    "\n",
    "usg Usage Rate - the number of possessions a player uses per 40 minutes. Usage Rate = {[FGA + (FT Att. x 0.44) + (Ast x 0.33) + TO] x 40 x League Pace} divided by (Minutes x Team Pace)\n",
    "\n",
    "orr Offensive rebound rate\n",
    "\n",
    "drr Defensive rebound rate\n",
    "\n",
    "rebr Rebound Rate - the percentage of missed shots that a player rebounds. Rebound Rate = (100 x (Rebounds x Team Minutes)) divided by [Player Minutes x (Team Rebounds + Opponent Rebounds)]\n",
    "\n",
    "per Player Efficiency Rating is the overall rating of a player's per-minute statistical production. The league average is 15.00 every season.\n",
    "\n",
    "va Value Added - the estimated number of points a player adds to a teamâ€™s season total above what a 'replacement player' (for instance, the 12th man on the roster) would produce. Value Added = ([Minutes * (PER - PRL)] / 67). PRL (Position Replacement Level) = 11.5 for power forwards, 11.0 for point guards, 10.6 for centers, 10.5 for shooting guards and small forwards\n",
    "\n",
    "ewa Estimated Wins Added - Value Added divided by 30, giving the estimated number of wins a player adds to a team's season total above what a 'replacement player' would produce.\n",
    "\n",
    "PER - sums up all a player's positive accomplishments, subtracts the negative accomplishments, and returns a per-minute rating of a player's performance\n",
    "\n",
    "Player Salary - the player's salary (short of any bonuses etc) for the season"
   ]
  },
  {
   "cell_type": "markdown",
   "metadata": {},
   "source": [
    "### Objective"
   ]
  },
  {
   "cell_type": "markdown",
   "metadata": {},
   "source": [
    "The objective of this assignment is to use advanced statistics, from John hollinger's advanced NBA  Statistics, in an attempt to both understand whether a players performance (per advanced statistics) is indicitive of their compensation\n",
    "\n",
    "To determine this, the following input statistics will be used from Hollinger's NBA advanced statistics:\n",
    "\n",
    "1. ts% True Shooting Percentage - what a player's shooting percentage would be if we accounted for free throws and 3-pointers. True Shooting Percentage = Total points / [(FGA + (0.44 x FTA)]\n",
    "\n",
    "2. ast Assist Ratio - the percentage of a player's possessions that ends in an assist. Assist Ratio = (Assists x 100) divided by [(FGA + (FTA x 0.44) + Assists + Turnovers]\n",
    "\n",
    "3. to Turnover Ratio - the percentage of a player's possessions that end in a turnover. Turnover Ratio = (Turnover x 100) divided by [(FGA + (FTA x 0.44) + Assists + Turnovers]\n",
    "\n",
    "4. usg Usage Rate - the number of possessions a player uses per 40 minutes. Usage Rate = {[FGA + (FT Att. x 0.44) + (Ast x 0.33) + TO] x 40 x League Pace} divided by (Minutes x Team Pace)\n",
    "\n",
    "5. orr Offensive rebound rate\n",
    "\n",
    "6. drr Defensive rebound rate\n",
    "\n",
    "7. rebr Rebound Rate - the percentage of missed shots that a player rebounds. Rebound Rate = (100 x (Rebounds x Team Minutes)) divided by [Player Minutes x (Team Rebounds + Opponent Rebounds)]\n",
    "\n",
    "8. Minutes per game (mpg): the amount a player plays - affects usage and efficiency\n",
    "\n",
    "The input statistics will be used in an attempt to classify the players season copensation - can we classify a player into an earning band via analysis of their advanced statistics?"
   ]
  },
  {
   "cell_type": "markdown",
   "metadata": {},
   "source": [
    "### Data Loading & Cleaning - Hollinger Statistics"
   ]
  },
  {
   "cell_type": "code",
   "execution_count": 1,
   "metadata": {},
   "outputs": [],
   "source": [
    "import numpy as np\n",
    "import pandas as pd\n",
    "import matplotlib.pyplot as plt\n",
    "import mpl_toolkits as mp\n",
    "import mpl_toolkits\n",
    "import seaborn as sns\n",
    "sns.set()"
   ]
  },
  {
   "cell_type": "code",
   "execution_count": 2,
   "metadata": {},
   "outputs": [
    {
     "data": {
      "text/html": [
       "<div>\n",
       "<style scoped>\n",
       "    .dataframe tbody tr th:only-of-type {\n",
       "        vertical-align: middle;\n",
       "    }\n",
       "\n",
       "    .dataframe tbody tr th {\n",
       "        vertical-align: top;\n",
       "    }\n",
       "\n",
       "    .dataframe thead th {\n",
       "        text-align: right;\n",
       "    }\n",
       "</style>\n",
       "<table border=\"1\" class=\"dataframe\">\n",
       "  <thead>\n",
       "    <tr style=\"text-align: right;\">\n",
       "      <th></th>\n",
       "      <th>Unnamed: 0</th>\n",
       "      <th>rank</th>\n",
       "      <th>gp</th>\n",
       "      <th>mpg</th>\n",
       "      <th>ts%</th>\n",
       "      <th>ast</th>\n",
       "      <th>to</th>\n",
       "      <th>usg</th>\n",
       "      <th>orr</th>\n",
       "      <th>drr</th>\n",
       "      <th>rebr</th>\n",
       "      <th>per</th>\n",
       "      <th>va</th>\n",
       "      <th>ewa</th>\n",
       "      <th>player</th>\n",
       "      <th>team</th>\n",
       "      <th>season</th>\n",
       "    </tr>\n",
       "  </thead>\n",
       "  <tbody>\n",
       "    <tr>\n",
       "      <th>0</th>\n",
       "      <td>1</td>\n",
       "      <td>1</td>\n",
       "      <td>75</td>\n",
       "      <td>39.4</td>\n",
       "      <td>0.564</td>\n",
       "      <td>15.0</td>\n",
       "      <td>7.1</td>\n",
       "      <td>32.6</td>\n",
       "      <td>5.0</td>\n",
       "      <td>14.6</td>\n",
       "      <td>9.5</td>\n",
       "      <td>31.01</td>\n",
       "      <td>452.0</td>\n",
       "      <td>15.1</td>\n",
       "      <td>Tracy McGrady</td>\n",
       "      <td>ORL</td>\n",
       "      <td>2002-03</td>\n",
       "    </tr>\n",
       "    <tr>\n",
       "      <th>1</th>\n",
       "      <td>2</td>\n",
       "      <td>2</td>\n",
       "      <td>67</td>\n",
       "      <td>37.8</td>\n",
       "      <td>0.602</td>\n",
       "      <td>10.7</td>\n",
       "      <td>10.1</td>\n",
       "      <td>27.8</td>\n",
       "      <td>11.0</td>\n",
       "      <td>21.6</td>\n",
       "      <td>16.5</td>\n",
       "      <td>29.43</td>\n",
       "      <td>356.2</td>\n",
       "      <td>11.9</td>\n",
       "      <td>Shaquille O'Neal</td>\n",
       "      <td>LAL</td>\n",
       "      <td>2002-03</td>\n",
       "    </tr>\n",
       "    <tr>\n",
       "      <th>2</th>\n",
       "      <td>3</td>\n",
       "      <td>3</td>\n",
       "      <td>82</td>\n",
       "      <td>41.5</td>\n",
       "      <td>0.550</td>\n",
       "      <td>16.0</td>\n",
       "      <td>9.6</td>\n",
       "      <td>31.1</td>\n",
       "      <td>3.0</td>\n",
       "      <td>15.3</td>\n",
       "      <td>9.3</td>\n",
       "      <td>27.07</td>\n",
       "      <td>420.6</td>\n",
       "      <td>14.0</td>\n",
       "      <td>Kobe Bryant</td>\n",
       "      <td>LAL</td>\n",
       "      <td>2002-03</td>\n",
       "    </tr>\n",
       "    <tr>\n",
       "      <th>3</th>\n",
       "      <td>4</td>\n",
       "      <td>4</td>\n",
       "      <td>82</td>\n",
       "      <td>40.5</td>\n",
       "      <td>0.553</td>\n",
       "      <td>20.4</td>\n",
       "      <td>9.4</td>\n",
       "      <td>25.0</td>\n",
       "      <td>9.0</td>\n",
       "      <td>28.5</td>\n",
       "      <td>18.8</td>\n",
       "      <td>26.46</td>\n",
       "      <td>370.8</td>\n",
       "      <td>12.4</td>\n",
       "      <td>Kevin Garnett</td>\n",
       "      <td>MIN</td>\n",
       "      <td>2002-03</td>\n",
       "    </tr>\n",
       "    <tr>\n",
       "      <th>4</th>\n",
       "      <td>5</td>\n",
       "      <td>5</td>\n",
       "      <td>81</td>\n",
       "      <td>39.3</td>\n",
       "      <td>0.564</td>\n",
       "      <td>14.1</td>\n",
       "      <td>11.1</td>\n",
       "      <td>25.7</td>\n",
       "      <td>10.0</td>\n",
       "      <td>27.3</td>\n",
       "      <td>19.0</td>\n",
       "      <td>26.46</td>\n",
       "      <td>355.0</td>\n",
       "      <td>11.8</td>\n",
       "      <td>Tim Duncan</td>\n",
       "      <td>SA</td>\n",
       "      <td>2002-03</td>\n",
       "    </tr>\n",
       "  </tbody>\n",
       "</table>\n",
       "</div>"
      ],
      "text/plain": [
       "   Unnamed: 0  rank  gp   mpg    ts%   ast    to   usg   orr   drr  rebr  \\\n",
       "0           1     1  75  39.4  0.564  15.0   7.1  32.6   5.0  14.6   9.5   \n",
       "1           2     2  67  37.8  0.602  10.7  10.1  27.8  11.0  21.6  16.5   \n",
       "2           3     3  82  41.5  0.550  16.0   9.6  31.1   3.0  15.3   9.3   \n",
       "3           4     4  82  40.5  0.553  20.4   9.4  25.0   9.0  28.5  18.8   \n",
       "4           5     5  81  39.3  0.564  14.1  11.1  25.7  10.0  27.3  19.0   \n",
       "\n",
       "     per     va   ewa            player  team   season  \n",
       "0  31.01  452.0  15.1     Tracy McGrady   ORL  2002-03  \n",
       "1  29.43  356.2  11.9  Shaquille O'Neal   LAL  2002-03  \n",
       "2  27.07  420.6  14.0       Kobe Bryant   LAL  2002-03  \n",
       "3  26.46  370.8  12.4     Kevin Garnett   MIN  2002-03  \n",
       "4  26.46  355.0  11.8        Tim Duncan    SA  2002-03  "
      ]
     },
     "execution_count": 2,
     "metadata": {},
     "output_type": "execute_result"
    }
   ],
   "source": [
    "# read in the data:\n",
    "# data downloaded and saved as a csv from Kaggle datasets\n",
    "data = pd.read_csv('hollingersStats.csv')\n",
    "data.head()"
   ]
  },
  {
   "cell_type": "code",
   "execution_count": 3,
   "metadata": {},
   "outputs": [
    {
     "data": {
      "text/html": [
       "<div>\n",
       "<style scoped>\n",
       "    .dataframe tbody tr th:only-of-type {\n",
       "        vertical-align: middle;\n",
       "    }\n",
       "\n",
       "    .dataframe tbody tr th {\n",
       "        vertical-align: top;\n",
       "    }\n",
       "\n",
       "    .dataframe thead th {\n",
       "        text-align: right;\n",
       "    }\n",
       "</style>\n",
       "<table border=\"1\" class=\"dataframe\">\n",
       "  <thead>\n",
       "    <tr style=\"text-align: right;\">\n",
       "      <th></th>\n",
       "      <th>gp</th>\n",
       "      <th>mpg</th>\n",
       "      <th>ts%</th>\n",
       "      <th>ast</th>\n",
       "      <th>to</th>\n",
       "      <th>usg</th>\n",
       "      <th>orr</th>\n",
       "      <th>drr</th>\n",
       "      <th>rebr</th>\n",
       "      <th>ewa</th>\n",
       "      <th>player</th>\n",
       "      <th>season</th>\n",
       "    </tr>\n",
       "  </thead>\n",
       "  <tbody>\n",
       "    <tr>\n",
       "      <th>0</th>\n",
       "      <td>75</td>\n",
       "      <td>39.4</td>\n",
       "      <td>0.564</td>\n",
       "      <td>15.0</td>\n",
       "      <td>7.1</td>\n",
       "      <td>32.6</td>\n",
       "      <td>5.0</td>\n",
       "      <td>14.6</td>\n",
       "      <td>9.5</td>\n",
       "      <td>15.1</td>\n",
       "      <td>Tracy McGrady</td>\n",
       "      <td>2002-03</td>\n",
       "    </tr>\n",
       "    <tr>\n",
       "      <th>1</th>\n",
       "      <td>67</td>\n",
       "      <td>37.8</td>\n",
       "      <td>0.602</td>\n",
       "      <td>10.7</td>\n",
       "      <td>10.1</td>\n",
       "      <td>27.8</td>\n",
       "      <td>11.0</td>\n",
       "      <td>21.6</td>\n",
       "      <td>16.5</td>\n",
       "      <td>11.9</td>\n",
       "      <td>Shaquille O'Neal</td>\n",
       "      <td>2002-03</td>\n",
       "    </tr>\n",
       "    <tr>\n",
       "      <th>2</th>\n",
       "      <td>82</td>\n",
       "      <td>41.5</td>\n",
       "      <td>0.550</td>\n",
       "      <td>16.0</td>\n",
       "      <td>9.6</td>\n",
       "      <td>31.1</td>\n",
       "      <td>3.0</td>\n",
       "      <td>15.3</td>\n",
       "      <td>9.3</td>\n",
       "      <td>14.0</td>\n",
       "      <td>Kobe Bryant</td>\n",
       "      <td>2002-03</td>\n",
       "    </tr>\n",
       "    <tr>\n",
       "      <th>3</th>\n",
       "      <td>82</td>\n",
       "      <td>40.5</td>\n",
       "      <td>0.553</td>\n",
       "      <td>20.4</td>\n",
       "      <td>9.4</td>\n",
       "      <td>25.0</td>\n",
       "      <td>9.0</td>\n",
       "      <td>28.5</td>\n",
       "      <td>18.8</td>\n",
       "      <td>12.4</td>\n",
       "      <td>Kevin Garnett</td>\n",
       "      <td>2002-03</td>\n",
       "    </tr>\n",
       "    <tr>\n",
       "      <th>4</th>\n",
       "      <td>81</td>\n",
       "      <td>39.3</td>\n",
       "      <td>0.564</td>\n",
       "      <td>14.1</td>\n",
       "      <td>11.1</td>\n",
       "      <td>25.7</td>\n",
       "      <td>10.0</td>\n",
       "      <td>27.3</td>\n",
       "      <td>19.0</td>\n",
       "      <td>11.8</td>\n",
       "      <td>Tim Duncan</td>\n",
       "      <td>2002-03</td>\n",
       "    </tr>\n",
       "  </tbody>\n",
       "</table>\n",
       "</div>"
      ],
      "text/plain": [
       "   gp   mpg    ts%   ast    to   usg   orr   drr  rebr   ewa  \\\n",
       "0  75  39.4  0.564  15.0   7.1  32.6   5.0  14.6   9.5  15.1   \n",
       "1  67  37.8  0.602  10.7  10.1  27.8  11.0  21.6  16.5  11.9   \n",
       "2  82  41.5  0.550  16.0   9.6  31.1   3.0  15.3   9.3  14.0   \n",
       "3  82  40.5  0.553  20.4   9.4  25.0   9.0  28.5  18.8  12.4   \n",
       "4  81  39.3  0.564  14.1  11.1  25.7  10.0  27.3  19.0  11.8   \n",
       "\n",
       "             player   season  \n",
       "0     Tracy McGrady  2002-03  \n",
       "1  Shaquille O'Neal  2002-03  \n",
       "2       Kobe Bryant  2002-03  \n",
       "3     Kevin Garnett  2002-03  \n",
       "4        Tim Duncan  2002-03  "
      ]
     },
     "execution_count": 3,
     "metadata": {},
     "output_type": "execute_result"
    }
   ],
   "source": [
    "# can drop data unnamed, rank - the variables will have no meaning for the further analysis\n",
    "# can drop per, va - will use ewa as a summary statistic (denoting how many wins a player addsa bove/beyond a replacement palyer)\n",
    "adv_stats = data[['gp', 'mpg', 'ts%', 'ast', 'to', 'usg', 'orr', 'drr', 'rebr', 'ewa', 'player', 'season']]\n",
    "adv_stats.head()"
   ]
  },
  {
   "cell_type": "code",
   "execution_count": 4,
   "metadata": {},
   "outputs": [
    {
     "name": "stdout",
     "output_type": "stream",
     "text": [
      "Number of Rows: 5404\n",
      "Number of Columns 12\n",
      "<class 'pandas.core.frame.DataFrame'>\n",
      "RangeIndex: 5404 entries, 0 to 5403\n",
      "Data columns (total 12 columns):\n",
      " #   Column  Non-Null Count  Dtype  \n",
      "---  ------  --------------  -----  \n",
      " 0   gp      5404 non-null   int64  \n",
      " 1   mpg     5404 non-null   float64\n",
      " 2   ts%     5404 non-null   float64\n",
      " 3   ast     5404 non-null   float64\n",
      " 4   to      5404 non-null   float64\n",
      " 5   usg     5404 non-null   float64\n",
      " 6   orr     5404 non-null   float64\n",
      " 7   drr     5404 non-null   float64\n",
      " 8   rebr    5404 non-null   float64\n",
      " 9   ewa     5404 non-null   float64\n",
      " 10  player  5404 non-null   object \n",
      " 11  season  5404 non-null   object \n",
      "dtypes: float64(9), int64(1), object(2)\n",
      "memory usage: 506.8+ KB\n"
     ]
    }
   ],
   "source": [
    "# get the shape of the data and data types\n",
    "print('Number of Rows:' , adv_stats.shape[0])\n",
    "print('Number of Columns', adv_stats.shape[1])\n",
    "adv_stats.info()"
   ]
  },
  {
   "cell_type": "markdown",
   "metadata": {},
   "source": [
    "Note that for all entries (5404 rows/records) there are non-null values"
   ]
  },
  {
   "cell_type": "code",
   "execution_count": 5,
   "metadata": {},
   "outputs": [
    {
     "name": "stdout",
     "output_type": "stream",
     "text": [
      "16 seasons\n"
     ]
    }
   ],
   "source": [
    "# get the unique seasons the dataset covers\n",
    "print(len(data['season'].unique().tolist()), 'seasons')"
   ]
  },
  {
   "cell_type": "code",
   "execution_count": 6,
   "metadata": {},
   "outputs": [
    {
     "name": "stdout",
     "output_type": "stream",
     "text": [
      "Minutes/Game:  False    5404\n",
      "Name: mpg, dtype: int64\n",
      "True Shooting %:  False    5404\n",
      "Name: ts%, dtype: int64\n",
      "Assists:  False    5404\n",
      "Name: ast, dtype: int64\n",
      "Turnovers:  False    5404\n",
      "Name: to, dtype: int64\n",
      "Usage:  False    5404\n",
      "Name: usg, dtype: int64\n",
      "Offensive Rebounding:  False    5404\n",
      "Name: orr, dtype: int64\n",
      "Defensive Rebounding:  False    5404\n",
      "Name: drr, dtype: int64\n",
      "Rebound Rate:  False    5404\n",
      "Name: rebr, dtype: int64\n",
      "EWA:  False    5404\n",
      "Name: ewa, dtype: int64\n",
      "Player:  False    5404\n",
      "Name: player, dtype: int64\n",
      "Season:  False    5404\n",
      "Name: season, dtype: int64\n"
     ]
    }
   ],
   "source": [
    "# check data for null/missing values: already checked above, but again for completeness\n",
    "check_na = adv_stats.isnull()\n",
    "\n",
    "# get a count of null (True) vs non-null (False)\n",
    "print('Minutes/Game: ', check_na['mpg'].value_counts())\n",
    "print('True Shooting %: ', check_na['ts%'].value_counts())\n",
    "print('Assists: ', check_na['ast'].value_counts())\n",
    "print('Turnovers: ', check_na['to'].value_counts())\n",
    "print('Usage: ', check_na['usg'].value_counts())\n",
    "print('Offensive Rebounding: ', check_na['orr'].value_counts())\n",
    "print('Defensive Rebounding: ', check_na['drr'].value_counts())\n",
    "print('Rebound Rate: ', check_na['rebr'].value_counts())\n",
    "print('EWA: ', check_na['ewa'].value_counts())\n",
    "print('Player: ', check_na['player'].value_counts())\n",
    "print('Season: ', check_na['season'].value_counts())"
   ]
  },
  {
   "cell_type": "markdown",
   "metadata": {},
   "source": [
    "The data shows all 5404 rows are populated for each feature of interest"
   ]
  },
  {
   "cell_type": "code",
   "execution_count": 7,
   "metadata": {},
   "outputs": [
    {
     "data": {
      "text/plain": [
       "gp          int64\n",
       "mpg       float64\n",
       "ts%       float64\n",
       "ast       float64\n",
       "to        float64\n",
       "usg       float64\n",
       "orr       float64\n",
       "drr       float64\n",
       "rebr      float64\n",
       "ewa       float64\n",
       "player     object\n",
       "season     object\n",
       "dtype: object"
      ]
     },
     "execution_count": 7,
     "metadata": {},
     "output_type": "execute_result"
    }
   ],
   "source": [
    "# check the data type of each column\n",
    "adv_stats.dtypes"
   ]
  },
  {
   "cell_type": "markdown",
   "metadata": {},
   "source": [
    "### Data Loading & Cleaning - Salary Data"
   ]
  },
  {
   "cell_type": "code",
   "execution_count": 8,
   "metadata": {},
   "outputs": [
    {
     "data": {
      "text/html": [
       "<div>\n",
       "<style scoped>\n",
       "    .dataframe tbody tr th:only-of-type {\n",
       "        vertical-align: middle;\n",
       "    }\n",
       "\n",
       "    .dataframe tbody tr th {\n",
       "        vertical-align: top;\n",
       "    }\n",
       "\n",
       "    .dataframe thead th {\n",
       "        text-align: right;\n",
       "    }\n",
       "</style>\n",
       "<table border=\"1\" class=\"dataframe\">\n",
       "  <thead>\n",
       "    <tr style=\"text-align: right;\">\n",
       "      <th></th>\n",
       "      <th>Player</th>\n",
       "      <th>Team</th>\n",
       "      <th>Salary</th>\n",
       "      <th>Season</th>\n",
       "      <th>Abb</th>\n",
       "      <th>TEAM-SEASON</th>\n",
       "    </tr>\n",
       "  </thead>\n",
       "  <tbody>\n",
       "    <tr>\n",
       "      <th>0</th>\n",
       "      <td>Shaquille O'Neal</td>\n",
       "      <td>Los Angeles Lakers</td>\n",
       "      <td>23571000</td>\n",
       "      <td>2003</td>\n",
       "      <td>LAL</td>\n",
       "      <td>LAL-2003</td>\n",
       "    </tr>\n",
       "    <tr>\n",
       "      <th>1</th>\n",
       "      <td>Juwan Howard</td>\n",
       "      <td>Denver Nuggets</td>\n",
       "      <td>20625000</td>\n",
       "      <td>2003</td>\n",
       "      <td>DEN</td>\n",
       "      <td>DEN-2003</td>\n",
       "    </tr>\n",
       "    <tr>\n",
       "      <th>2</th>\n",
       "      <td>Karl Malone</td>\n",
       "      <td>Utah Jazz</td>\n",
       "      <td>19250000</td>\n",
       "      <td>2003</td>\n",
       "      <td>UTA</td>\n",
       "      <td>UTA-2003</td>\n",
       "    </tr>\n",
       "    <tr>\n",
       "      <th>3</th>\n",
       "      <td>Dikembe Mutombo</td>\n",
       "      <td>New Jersey Nets</td>\n",
       "      <td>16105000</td>\n",
       "      <td>2003</td>\n",
       "      <td>BKN</td>\n",
       "      <td>BKN-2003</td>\n",
       "    </tr>\n",
       "    <tr>\n",
       "      <th>4</th>\n",
       "      <td>Damon Stoudamire</td>\n",
       "      <td>Portland Trail Blazers</td>\n",
       "      <td>13500000</td>\n",
       "      <td>2003</td>\n",
       "      <td>POR</td>\n",
       "      <td>POR-2003</td>\n",
       "    </tr>\n",
       "  </tbody>\n",
       "</table>\n",
       "</div>"
      ],
      "text/plain": [
       "             Player                    Team    Salary  Season  Abb TEAM-SEASON\n",
       "0  Shaquille O'Neal      Los Angeles Lakers  23571000    2003  LAL    LAL-2003\n",
       "1      Juwan Howard          Denver Nuggets  20625000    2003  DEN    DEN-2003\n",
       "2       Karl Malone               Utah Jazz  19250000    2003  UTA    UTA-2003\n",
       "3   Dikembe Mutombo         New Jersey Nets  16105000    2003  BKN    BKN-2003\n",
       "4  Damon Stoudamire  Portland Trail Blazers  13500000    2003  POR    POR-2003"
      ]
     },
     "execution_count": 8,
     "metadata": {},
     "output_type": "execute_result"
    }
   ],
   "source": [
    "salary_data = pd.read_csv('all_salaries.csv')\n",
    "salary_data.head()"
   ]
  },
  {
   "cell_type": "code",
   "execution_count": 9,
   "metadata": {},
   "outputs": [
    {
     "data": {
      "text/html": [
       "<div>\n",
       "<style scoped>\n",
       "    .dataframe tbody tr th:only-of-type {\n",
       "        vertical-align: middle;\n",
       "    }\n",
       "\n",
       "    .dataframe tbody tr th {\n",
       "        vertical-align: top;\n",
       "    }\n",
       "\n",
       "    .dataframe thead th {\n",
       "        text-align: right;\n",
       "    }\n",
       "</style>\n",
       "<table border=\"1\" class=\"dataframe\">\n",
       "  <thead>\n",
       "    <tr style=\"text-align: right;\">\n",
       "      <th></th>\n",
       "      <th>Player</th>\n",
       "      <th>Salary</th>\n",
       "      <th>Season</th>\n",
       "    </tr>\n",
       "  </thead>\n",
       "  <tbody>\n",
       "    <tr>\n",
       "      <th>0</th>\n",
       "      <td>Shaquille O'Neal</td>\n",
       "      <td>23571000</td>\n",
       "      <td>2003</td>\n",
       "    </tr>\n",
       "    <tr>\n",
       "      <th>1</th>\n",
       "      <td>Juwan Howard</td>\n",
       "      <td>20625000</td>\n",
       "      <td>2003</td>\n",
       "    </tr>\n",
       "    <tr>\n",
       "      <th>2</th>\n",
       "      <td>Karl Malone</td>\n",
       "      <td>19250000</td>\n",
       "      <td>2003</td>\n",
       "    </tr>\n",
       "    <tr>\n",
       "      <th>3</th>\n",
       "      <td>Dikembe Mutombo</td>\n",
       "      <td>16105000</td>\n",
       "      <td>2003</td>\n",
       "    </tr>\n",
       "    <tr>\n",
       "      <th>4</th>\n",
       "      <td>Damon Stoudamire</td>\n",
       "      <td>13500000</td>\n",
       "      <td>2003</td>\n",
       "    </tr>\n",
       "  </tbody>\n",
       "</table>\n",
       "</div>"
      ],
      "text/plain": [
       "             Player    Salary  Season\n",
       "0  Shaquille O'Neal  23571000    2003\n",
       "1      Juwan Howard  20625000    2003\n",
       "2       Karl Malone  19250000    2003\n",
       "3   Dikembe Mutombo  16105000    2003\n",
       "4  Damon Stoudamire  13500000    2003"
      ]
     },
     "execution_count": 9,
     "metadata": {},
     "output_type": "execute_result"
    }
   ],
   "source": [
    "# can remove Team, Team-Season, Abbv\n",
    "salary_data = salary_data[['Player', 'Salary', 'Season']]\n",
    "salary_data.head()"
   ]
  },
  {
   "cell_type": "code",
   "execution_count": 10,
   "metadata": {},
   "outputs": [
    {
     "data": {
      "text/plain": [
       "Player    object\n",
       "Salary     int64\n",
       "Season     int64\n",
       "dtype: object"
      ]
     },
     "execution_count": 10,
     "metadata": {},
     "output_type": "execute_result"
    }
   ],
   "source": [
    "# check data types of each column\n",
    "salary_data.dtypes"
   ]
  },
  {
   "cell_type": "code",
   "execution_count": 11,
   "metadata": {},
   "outputs": [
    {
     "name": "stdout",
     "output_type": "stream",
     "text": [
      "<class 'pandas.core.frame.DataFrame'>\n",
      "RangeIndex: 7950 entries, 0 to 7949\n",
      "Data columns (total 3 columns):\n",
      " #   Column  Non-Null Count  Dtype \n",
      "---  ------  --------------  ----- \n",
      " 0   Player  7950 non-null   object\n",
      " 1   Salary  7950 non-null   int64 \n",
      " 2   Season  7950 non-null   int64 \n",
      "dtypes: int64(2), object(1)\n",
      "memory usage: 186.5+ KB\n"
     ]
    }
   ],
   "source": [
    "#check to ensure there are no null values/empty rows\n",
    "salary_data.info()"
   ]
  },
  {
   "cell_type": "markdown",
   "metadata": {},
   "source": [
    "### Combining Data Sets: Advanced Stats & Salary"
   ]
  },
  {
   "cell_type": "code",
   "execution_count": 12,
   "metadata": {},
   "outputs": [
    {
     "name": "stderr",
     "output_type": "stream",
     "text": [
      "C:\\Users\\iaustin\\AppData\\Local\\Continuum\\anaconda3\\lib\\site-packages\\ipykernel_launcher.py:2: SettingWithCopyWarning: \n",
      "A value is trying to be set on a copy of a slice from a DataFrame.\n",
      "Try using .loc[row_indexer,col_indexer] = value instead\n",
      "\n",
      "See the caveats in the documentation: https://pandas.pydata.org/pandas-docs/stable/user_guide/indexing.html#returning-a-view-versus-a-copy\n",
      "  \n"
     ]
    },
    {
     "data": {
      "text/html": [
       "<div>\n",
       "<style scoped>\n",
       "    .dataframe tbody tr th:only-of-type {\n",
       "        vertical-align: middle;\n",
       "    }\n",
       "\n",
       "    .dataframe tbody tr th {\n",
       "        vertical-align: top;\n",
       "    }\n",
       "\n",
       "    .dataframe thead th {\n",
       "        text-align: right;\n",
       "    }\n",
       "</style>\n",
       "<table border=\"1\" class=\"dataframe\">\n",
       "  <thead>\n",
       "    <tr style=\"text-align: right;\">\n",
       "      <th></th>\n",
       "      <th>gp</th>\n",
       "      <th>mpg</th>\n",
       "      <th>ts%</th>\n",
       "      <th>ast</th>\n",
       "      <th>to</th>\n",
       "      <th>usg</th>\n",
       "      <th>orr</th>\n",
       "      <th>drr</th>\n",
       "      <th>rebr</th>\n",
       "      <th>ewa</th>\n",
       "      <th>player</th>\n",
       "      <th>season</th>\n",
       "    </tr>\n",
       "  </thead>\n",
       "  <tbody>\n",
       "    <tr>\n",
       "      <th>0</th>\n",
       "      <td>75</td>\n",
       "      <td>39.4</td>\n",
       "      <td>0.564</td>\n",
       "      <td>15.0</td>\n",
       "      <td>7.1</td>\n",
       "      <td>32.6</td>\n",
       "      <td>5.0</td>\n",
       "      <td>14.6</td>\n",
       "      <td>9.5</td>\n",
       "      <td>15.1</td>\n",
       "      <td>Tracy McGrady</td>\n",
       "      <td>2002</td>\n",
       "    </tr>\n",
       "    <tr>\n",
       "      <th>1</th>\n",
       "      <td>67</td>\n",
       "      <td>37.8</td>\n",
       "      <td>0.602</td>\n",
       "      <td>10.7</td>\n",
       "      <td>10.1</td>\n",
       "      <td>27.8</td>\n",
       "      <td>11.0</td>\n",
       "      <td>21.6</td>\n",
       "      <td>16.5</td>\n",
       "      <td>11.9</td>\n",
       "      <td>Shaquille O'Neal</td>\n",
       "      <td>2002</td>\n",
       "    </tr>\n",
       "    <tr>\n",
       "      <th>2</th>\n",
       "      <td>82</td>\n",
       "      <td>41.5</td>\n",
       "      <td>0.550</td>\n",
       "      <td>16.0</td>\n",
       "      <td>9.6</td>\n",
       "      <td>31.1</td>\n",
       "      <td>3.0</td>\n",
       "      <td>15.3</td>\n",
       "      <td>9.3</td>\n",
       "      <td>14.0</td>\n",
       "      <td>Kobe Bryant</td>\n",
       "      <td>2002</td>\n",
       "    </tr>\n",
       "    <tr>\n",
       "      <th>3</th>\n",
       "      <td>82</td>\n",
       "      <td>40.5</td>\n",
       "      <td>0.553</td>\n",
       "      <td>20.4</td>\n",
       "      <td>9.4</td>\n",
       "      <td>25.0</td>\n",
       "      <td>9.0</td>\n",
       "      <td>28.5</td>\n",
       "      <td>18.8</td>\n",
       "      <td>12.4</td>\n",
       "      <td>Kevin Garnett</td>\n",
       "      <td>2002</td>\n",
       "    </tr>\n",
       "    <tr>\n",
       "      <th>4</th>\n",
       "      <td>81</td>\n",
       "      <td>39.3</td>\n",
       "      <td>0.564</td>\n",
       "      <td>14.1</td>\n",
       "      <td>11.1</td>\n",
       "      <td>25.7</td>\n",
       "      <td>10.0</td>\n",
       "      <td>27.3</td>\n",
       "      <td>19.0</td>\n",
       "      <td>11.8</td>\n",
       "      <td>Tim Duncan</td>\n",
       "      <td>2002</td>\n",
       "    </tr>\n",
       "  </tbody>\n",
       "</table>\n",
       "</div>"
      ],
      "text/plain": [
       "   gp   mpg    ts%   ast    to   usg   orr   drr  rebr   ewa  \\\n",
       "0  75  39.4  0.564  15.0   7.1  32.6   5.0  14.6   9.5  15.1   \n",
       "1  67  37.8  0.602  10.7  10.1  27.8  11.0  21.6  16.5  11.9   \n",
       "2  82  41.5  0.550  16.0   9.6  31.1   3.0  15.3   9.3  14.0   \n",
       "3  82  40.5  0.553  20.4   9.4  25.0   9.0  28.5  18.8  12.4   \n",
       "4  81  39.3  0.564  14.1  11.1  25.7  10.0  27.3  19.0  11.8   \n",
       "\n",
       "             player season  \n",
       "0     Tracy McGrady   2002  \n",
       "1  Shaquille O'Neal   2002  \n",
       "2       Kobe Bryant   2002  \n",
       "3     Kevin Garnett   2002  \n",
       "4        Tim Duncan   2002  "
      ]
     },
     "execution_count": 12,
     "metadata": {},
     "output_type": "execute_result"
    }
   ],
   "source": [
    "# based on data, need to trim data from season in adv_stats\n",
    "adv_stats['season'] = adv_stats['season'].str[0:4]\n",
    "adv_stats.head()"
   ]
  },
  {
   "cell_type": "code",
   "execution_count": 13,
   "metadata": {},
   "outputs": [
    {
     "name": "stdout",
     "output_type": "stream",
     "text": [
      "['2002', '2003', '2004', '2005', '2006', '2007', '2008', '2009', '2010', '2011', '2012', '2013', '2014', '2015', '2016', '2017']\n",
      "[2003, 2004, 2005, 2006, 2007, 2008, 2009, 2010, 2011, 2012, 2013, 2014, 2015, 2016, 2017, 2018, 2019]\n"
     ]
    }
   ],
   "source": [
    "# check seasons for each data set to see if we need to reove data\n",
    "print(adv_stats['season'].unique().tolist())\n",
    "print(salary_data['Season'].unique().tolist())"
   ]
  },
  {
   "cell_type": "code",
   "execution_count": 14,
   "metadata": {},
   "outputs": [
    {
     "name": "stderr",
     "output_type": "stream",
     "text": [
      "C:\\Users\\iaustin\\AppData\\Local\\Continuum\\anaconda3\\lib\\site-packages\\ipykernel_launcher.py:2: SettingWithCopyWarning: \n",
      "A value is trying to be set on a copy of a slice from a DataFrame.\n",
      "Try using .loc[row_indexer,col_indexer] = value instead\n",
      "\n",
      "See the caveats in the documentation: https://pandas.pydata.org/pandas-docs/stable/user_guide/indexing.html#returning-a-view-versus-a-copy\n",
      "  \n"
     ]
    }
   ],
   "source": [
    "# looks as if adv_stats['season'] is an object, will need to change to a integer\n",
    "adv_stats['season'] = adv_stats['season'].astype(str).astype(int)"
   ]
  },
  {
   "cell_type": "code",
   "execution_count": 15,
   "metadata": {},
   "outputs": [
    {
     "name": "stderr",
     "output_type": "stream",
     "text": [
      "C:\\Users\\iaustin\\AppData\\Local\\Continuum\\anaconda3\\lib\\site-packages\\ipykernel_launcher.py:6: UserWarning: Boolean Series key will be reindexed to match DataFrame index.\n",
      "  \n"
     ]
    }
   ],
   "source": [
    "# based on data, need to remove 2002 f/ adv_stats and 2018/2019 from salary_data\n",
    "# for adv_stats\n",
    "adv_stats = adv_stats[adv_stats['season'] != '2002']\n",
    "\n",
    "# for salary_data\n",
    "salary_data = salary_data[salary_data['Season'] != 2018][salary_data['Season'] != '2019']"
   ]
  },
  {
   "cell_type": "code",
   "execution_count": 16,
   "metadata": {},
   "outputs": [
    {
     "data": {
      "text/html": [
       "<div>\n",
       "<style scoped>\n",
       "    .dataframe tbody tr th:only-of-type {\n",
       "        vertical-align: middle;\n",
       "    }\n",
       "\n",
       "    .dataframe tbody tr th {\n",
       "        vertical-align: top;\n",
       "    }\n",
       "\n",
       "    .dataframe thead th {\n",
       "        text-align: right;\n",
       "    }\n",
       "</style>\n",
       "<table border=\"1\" class=\"dataframe\">\n",
       "  <thead>\n",
       "    <tr style=\"text-align: right;\">\n",
       "      <th></th>\n",
       "      <th>gp</th>\n",
       "      <th>mpg</th>\n",
       "      <th>ts%</th>\n",
       "      <th>ast</th>\n",
       "      <th>to</th>\n",
       "      <th>usg</th>\n",
       "      <th>orr</th>\n",
       "      <th>drr</th>\n",
       "      <th>rebr</th>\n",
       "      <th>ewa</th>\n",
       "      <th>Salary</th>\n",
       "    </tr>\n",
       "  </thead>\n",
       "  <tbody>\n",
       "    <tr>\n",
       "      <th>0</th>\n",
       "      <td>82</td>\n",
       "      <td>39.4</td>\n",
       "      <td>0.547</td>\n",
       "      <td>16.8</td>\n",
       "      <td>8.7</td>\n",
       "      <td>27.1</td>\n",
       "      <td>9.0</td>\n",
       "      <td>30.0</td>\n",
       "      <td>20.1</td>\n",
       "      <td>14.5</td>\n",
       "      <td>25200000</td>\n",
       "    </tr>\n",
       "    <tr>\n",
       "      <th>1</th>\n",
       "      <td>69</td>\n",
       "      <td>36.6</td>\n",
       "      <td>0.534</td>\n",
       "      <td>11.6</td>\n",
       "      <td>10.0</td>\n",
       "      <td>27.1</td>\n",
       "      <td>10.0</td>\n",
       "      <td>27.6</td>\n",
       "      <td>19.0</td>\n",
       "      <td>9.6</td>\n",
       "      <td>12072000</td>\n",
       "    </tr>\n",
       "    <tr>\n",
       "      <th>2</th>\n",
       "      <td>67</td>\n",
       "      <td>39.9</td>\n",
       "      <td>0.526</td>\n",
       "      <td>15.8</td>\n",
       "      <td>7.7</td>\n",
       "      <td>30.9</td>\n",
       "      <td>4.0</td>\n",
       "      <td>13.3</td>\n",
       "      <td>8.5</td>\n",
       "      <td>10.8</td>\n",
       "      <td>12072000</td>\n",
       "    </tr>\n",
       "    <tr>\n",
       "      <th>3</th>\n",
       "      <td>67</td>\n",
       "      <td>36.8</td>\n",
       "      <td>0.578</td>\n",
       "      <td>12.0</td>\n",
       "      <td>11.9</td>\n",
       "      <td>23.9</td>\n",
       "      <td>11.0</td>\n",
       "      <td>24.4</td>\n",
       "      <td>17.7</td>\n",
       "      <td>8.4</td>\n",
       "      <td>23571000</td>\n",
       "    </tr>\n",
       "    <tr>\n",
       "      <th>4</th>\n",
       "      <td>65</td>\n",
       "      <td>37.6</td>\n",
       "      <td>0.551</td>\n",
       "      <td>17.2</td>\n",
       "      <td>8.9</td>\n",
       "      <td>27.0</td>\n",
       "      <td>5.0</td>\n",
       "      <td>12.0</td>\n",
       "      <td>8.3</td>\n",
       "      <td>8.4</td>\n",
       "      <td>12375000</td>\n",
       "    </tr>\n",
       "  </tbody>\n",
       "</table>\n",
       "</div>"
      ],
      "text/plain": [
       "   gp   mpg    ts%   ast    to   usg   orr   drr  rebr   ewa    Salary\n",
       "0  82  39.4  0.547  16.8   8.7  27.1   9.0  30.0  20.1  14.5  25200000\n",
       "1  69  36.6  0.534  11.6  10.0  27.1  10.0  27.6  19.0   9.6  12072000\n",
       "2  67  39.9  0.526  15.8   7.7  30.9   4.0  13.3   8.5  10.8  12072000\n",
       "3  67  36.8  0.578  12.0  11.9  23.9  11.0  24.4  17.7   8.4  23571000\n",
       "4  65  37.6  0.551  17.2   8.9  27.0   5.0  12.0   8.3   8.4  12375000"
      ]
     },
     "execution_count": 16,
     "metadata": {},
     "output_type": "execute_result"
    }
   ],
   "source": [
    "# Now left with 2 dataframes. Merge both, on Player and Season to align advanced stats with salary\n",
    "salary_stats_data = adv_stats.merge(salary_data, how = 'inner', left_on = ['player', 'season'], right_on = ['Player', 'Season'])\n",
    "\n",
    "# can drop the player/season columns\n",
    "salary_stats_data = salary_stats_data.drop(['player', 'season', 'Player', 'Season'], axis = 1)\n",
    "\n",
    "salary_stats_data.head()"
   ]
  },
  {
   "cell_type": "code",
   "execution_count": 17,
   "metadata": {},
   "outputs": [
    {
     "name": "stdout",
     "output_type": "stream",
     "text": [
      "Shape:  (4053, 11)\n",
      "<class 'pandas.core.frame.DataFrame'>\n",
      "Int64Index: 4053 entries, 0 to 4052\n",
      "Data columns (total 11 columns):\n",
      " #   Column  Non-Null Count  Dtype  \n",
      "---  ------  --------------  -----  \n",
      " 0   gp      4053 non-null   int64  \n",
      " 1   mpg     4053 non-null   float64\n",
      " 2   ts%     4053 non-null   float64\n",
      " 3   ast     4053 non-null   float64\n",
      " 4   to      4053 non-null   float64\n",
      " 5   usg     4053 non-null   float64\n",
      " 6   orr     4053 non-null   float64\n",
      " 7   drr     4053 non-null   float64\n",
      " 8   rebr    4053 non-null   float64\n",
      " 9   ewa     4053 non-null   float64\n",
      " 10  Salary  4053 non-null   int64  \n",
      "dtypes: float64(9), int64(2)\n",
      "memory usage: 380.0 KB\n"
     ]
    }
   ],
   "source": [
    "# shape and information of the processed data frame\n",
    "print('Shape: ', salary_stats_data.shape)\n",
    "salary_stats_data.info()"
   ]
  },
  {
   "cell_type": "markdown",
   "metadata": {},
   "source": [
    "### Processing Data"
   ]
  },
  {
   "cell_type": "code",
   "execution_count": 18,
   "metadata": {},
   "outputs": [
    {
     "data": {
      "text/html": [
       "<div>\n",
       "<style scoped>\n",
       "    .dataframe tbody tr th:only-of-type {\n",
       "        vertical-align: middle;\n",
       "    }\n",
       "\n",
       "    .dataframe tbody tr th {\n",
       "        vertical-align: top;\n",
       "    }\n",
       "\n",
       "    .dataframe thead th {\n",
       "        text-align: right;\n",
       "    }\n",
       "</style>\n",
       "<table border=\"1\" class=\"dataframe\">\n",
       "  <thead>\n",
       "    <tr style=\"text-align: right;\">\n",
       "      <th></th>\n",
       "      <th>gp</th>\n",
       "      <th>mpg</th>\n",
       "      <th>ts%</th>\n",
       "      <th>ast</th>\n",
       "      <th>to</th>\n",
       "      <th>usg</th>\n",
       "      <th>orr</th>\n",
       "      <th>drr</th>\n",
       "      <th>rebr</th>\n",
       "      <th>ewa</th>\n",
       "      <th>Salary</th>\n",
       "    </tr>\n",
       "  </thead>\n",
       "  <tbody>\n",
       "    <tr>\n",
       "      <th>count</th>\n",
       "      <td>4053.000000</td>\n",
       "      <td>4053.000000</td>\n",
       "      <td>4053.000000</td>\n",
       "      <td>4053.000000</td>\n",
       "      <td>4053.000000</td>\n",
       "      <td>4053.000000</td>\n",
       "      <td>4053.000000</td>\n",
       "      <td>4053.000000</td>\n",
       "      <td>4053.000000</td>\n",
       "      <td>4053.000000</td>\n",
       "      <td>4.053000e+03</td>\n",
       "    </tr>\n",
       "    <tr>\n",
       "      <th>mean</th>\n",
       "      <td>66.184308</td>\n",
       "      <td>25.328571</td>\n",
       "      <td>0.536975</td>\n",
       "      <td>16.119911</td>\n",
       "      <td>10.938712</td>\n",
       "      <td>18.360202</td>\n",
       "      <td>5.281396</td>\n",
       "      <td>14.903479</td>\n",
       "      <td>10.098569</td>\n",
       "      <td>3.886010</td>\n",
       "      <td>5.581269e+06</td>\n",
       "    </tr>\n",
       "    <tr>\n",
       "      <th>std</th>\n",
       "      <td>14.003836</td>\n",
       "      <td>7.770250</td>\n",
       "      <td>0.046953</td>\n",
       "      <td>8.030305</td>\n",
       "      <td>2.834330</td>\n",
       "      <td>4.924905</td>\n",
       "      <td>3.874435</td>\n",
       "      <td>6.040374</td>\n",
       "      <td>4.661527</td>\n",
       "      <td>4.929632</td>\n",
       "      <td>5.209618e+06</td>\n",
       "    </tr>\n",
       "    <tr>\n",
       "      <th>min</th>\n",
       "      <td>17.000000</td>\n",
       "      <td>7.000000</td>\n",
       "      <td>0.363000</td>\n",
       "      <td>1.800000</td>\n",
       "      <td>2.000000</td>\n",
       "      <td>0.000000</td>\n",
       "      <td>0.000000</td>\n",
       "      <td>0.000000</td>\n",
       "      <td>0.000000</td>\n",
       "      <td>-7.000000</td>\n",
       "      <td>1.598400e+04</td>\n",
       "    </tr>\n",
       "    <tr>\n",
       "      <th>25%</th>\n",
       "      <td>58.000000</td>\n",
       "      <td>19.000000</td>\n",
       "      <td>0.508000</td>\n",
       "      <td>10.000000</td>\n",
       "      <td>9.100000</td>\n",
       "      <td>14.800000</td>\n",
       "      <td>2.000000</td>\n",
       "      <td>10.000000</td>\n",
       "      <td>6.200000</td>\n",
       "      <td>0.500000</td>\n",
       "      <td>1.658280e+06</td>\n",
       "    </tr>\n",
       "    <tr>\n",
       "      <th>50%</th>\n",
       "      <td>70.000000</td>\n",
       "      <td>25.500000</td>\n",
       "      <td>0.537000</td>\n",
       "      <td>14.300000</td>\n",
       "      <td>10.700000</td>\n",
       "      <td>18.000000</td>\n",
       "      <td>4.000000</td>\n",
       "      <td>13.800000</td>\n",
       "      <td>9.000000</td>\n",
       "      <td>2.400000</td>\n",
       "      <td>3.726600e+06</td>\n",
       "    </tr>\n",
       "    <tr>\n",
       "      <th>75%</th>\n",
       "      <td>78.000000</td>\n",
       "      <td>31.900000</td>\n",
       "      <td>0.567000</td>\n",
       "      <td>20.600000</td>\n",
       "      <td>12.400000</td>\n",
       "      <td>21.500000</td>\n",
       "      <td>8.000000</td>\n",
       "      <td>19.000000</td>\n",
       "      <td>13.500000</td>\n",
       "      <td>5.800000</td>\n",
       "      <td>8.000000e+06</td>\n",
       "    </tr>\n",
       "    <tr>\n",
       "      <th>max</th>\n",
       "      <td>85.000000</td>\n",
       "      <td>43.100000</td>\n",
       "      <td>0.725000</td>\n",
       "      <td>48.700000</td>\n",
       "      <td>29.600000</td>\n",
       "      <td>42.500000</td>\n",
       "      <td>22.000000</td>\n",
       "      <td>38.000000</td>\n",
       "      <td>26.700000</td>\n",
       "      <td>32.300000</td>\n",
       "      <td>3.096345e+07</td>\n",
       "    </tr>\n",
       "  </tbody>\n",
       "</table>\n",
       "</div>"
      ],
      "text/plain": [
       "                gp          mpg          ts%          ast           to  \\\n",
       "count  4053.000000  4053.000000  4053.000000  4053.000000  4053.000000   \n",
       "mean     66.184308    25.328571     0.536975    16.119911    10.938712   \n",
       "std      14.003836     7.770250     0.046953     8.030305     2.834330   \n",
       "min      17.000000     7.000000     0.363000     1.800000     2.000000   \n",
       "25%      58.000000    19.000000     0.508000    10.000000     9.100000   \n",
       "50%      70.000000    25.500000     0.537000    14.300000    10.700000   \n",
       "75%      78.000000    31.900000     0.567000    20.600000    12.400000   \n",
       "max      85.000000    43.100000     0.725000    48.700000    29.600000   \n",
       "\n",
       "               usg          orr          drr         rebr          ewa  \\\n",
       "count  4053.000000  4053.000000  4053.000000  4053.000000  4053.000000   \n",
       "mean     18.360202     5.281396    14.903479    10.098569     3.886010   \n",
       "std       4.924905     3.874435     6.040374     4.661527     4.929632   \n",
       "min       0.000000     0.000000     0.000000     0.000000    -7.000000   \n",
       "25%      14.800000     2.000000    10.000000     6.200000     0.500000   \n",
       "50%      18.000000     4.000000    13.800000     9.000000     2.400000   \n",
       "75%      21.500000     8.000000    19.000000    13.500000     5.800000   \n",
       "max      42.500000    22.000000    38.000000    26.700000    32.300000   \n",
       "\n",
       "             Salary  \n",
       "count  4.053000e+03  \n",
       "mean   5.581269e+06  \n",
       "std    5.209618e+06  \n",
       "min    1.598400e+04  \n",
       "25%    1.658280e+06  \n",
       "50%    3.726600e+06  \n",
       "75%    8.000000e+06  \n",
       "max    3.096345e+07  "
      ]
     },
     "execution_count": 18,
     "metadata": {},
     "output_type": "execute_result"
    }
   ],
   "source": [
    "# outliers: will only remove outliers from the gp (games played) data - but only for those with low gp, as being present/not present will skew the addition of value \n",
    "# Salary data will be kept as is, with the exception of reoving outliers  - values below the league CBA minimum salary\n",
    "# High salaries will be retained in order to deterine if the top start justify their salary via performance\n",
    "\n",
    "# get a summary of the data:\n",
    "summary = salary_stats_data.describe()\n",
    "summary"
   ]
  },
  {
   "cell_type": "code",
   "execution_count": 19,
   "metadata": {},
   "outputs": [
    {
     "name": "stdout",
     "output_type": "stream",
     "text": [
      "After removing low salary & gp outliers, negative ewa and rebounding rates:  3137\n"
     ]
    }
   ],
   "source": [
    "# will remove low outliers from the gp and Salary data\n",
    "# determine iqr for each feature\n",
    "gp_q1 = summary.loc['25%', 'gp']\n",
    "gp_q2 = summary.loc['50%', 'gp']\n",
    "gp_q3 = summary.loc['75%', 'gp']\n",
    "gp_iqr = gp_q3 - gp_q1\n",
    "\n",
    "# remove rows from data frame based on - 1.5*iqr (low side outlier removal). Salary data will be removed if below the NBA 2003 minimum salary ($564,000)\n",
    "# this helps eliminate players paid on short-term (10 day contracts)\n",
    "salary_stats_data = salary_stats_data[salary_stats_data['gp'] >= gp_q1 - 1.5*gp_iqr]\n",
    "salary_stats_data = salary_stats_data[salary_stats_data['Salary'] > 564000]\n",
    "salary_stats_data = salary_stats_data[salary_stats_data['ewa'] > 0]\n",
    "salary_stats_data = salary_stats_data[salary_stats_data['orr'] > 0]\n",
    "salary_stats_data = salary_stats_data[salary_stats_data['drr'] > 0]\n",
    "salary_stats_data = salary_stats_data[salary_stats_data['rebr'] > 0]\n",
    "\n",
    "print('After removing low salary & gp outliers, negative ewa and rebounding rates: ', salary_stats_data.shape[0])"
   ]
  },
  {
   "cell_type": "code",
   "execution_count": 20,
   "metadata": {},
   "outputs": [],
   "source": [
    "# next we will look at changing the Salary feature from numerial to a categorical/ordinal feature (Q1, Q2, Q3, Q4)\n",
    "s1 = summary.loc['25%', 'Salary']\n",
    "s2 = summary.loc['50%', 'Salary']\n",
    "s3 = summary.loc['75%', 'Salary']\n",
    "smax = summary.loc['max', 'Salary']\n",
    "sal_class = []\n",
    "\n",
    "for i in salary_stats_data['Salary']:\n",
    "    if i < s1:\n",
    "        sal_class.append(1)\n",
    "    elif i >= s1 and i < s2:\n",
    "        sal_class.append(2)\n",
    "    elif i >= s2 and i < s3:\n",
    "        sal_class.append(3)\n",
    "    else:\n",
    "        sal_class.append(4)\n",
    "        \n",
    "salary_stats_data['class'] = sal_class"
   ]
  },
  {
   "cell_type": "code",
   "execution_count": 21,
   "metadata": {},
   "outputs": [
    {
     "data": {
      "text/html": [
       "<div>\n",
       "<style scoped>\n",
       "    .dataframe tbody tr th:only-of-type {\n",
       "        vertical-align: middle;\n",
       "    }\n",
       "\n",
       "    .dataframe tbody tr th {\n",
       "        vertical-align: top;\n",
       "    }\n",
       "\n",
       "    .dataframe thead th {\n",
       "        text-align: right;\n",
       "    }\n",
       "</style>\n",
       "<table border=\"1\" class=\"dataframe\">\n",
       "  <thead>\n",
       "    <tr style=\"text-align: right;\">\n",
       "      <th></th>\n",
       "      <th>gp</th>\n",
       "      <th>mpg</th>\n",
       "      <th>ts%</th>\n",
       "      <th>ast</th>\n",
       "      <th>to</th>\n",
       "      <th>usg</th>\n",
       "      <th>orr</th>\n",
       "      <th>drr</th>\n",
       "      <th>rebr</th>\n",
       "      <th>ewa</th>\n",
       "      <th>Salary</th>\n",
       "      <th>class</th>\n",
       "    </tr>\n",
       "  </thead>\n",
       "  <tbody>\n",
       "    <tr>\n",
       "      <th>0</th>\n",
       "      <td>82</td>\n",
       "      <td>39.4</td>\n",
       "      <td>0.547</td>\n",
       "      <td>16.8</td>\n",
       "      <td>8.7</td>\n",
       "      <td>27.1</td>\n",
       "      <td>9.0</td>\n",
       "      <td>30.0</td>\n",
       "      <td>20.1</td>\n",
       "      <td>14.5</td>\n",
       "      <td>25200000</td>\n",
       "      <td>4</td>\n",
       "    </tr>\n",
       "    <tr>\n",
       "      <th>1</th>\n",
       "      <td>69</td>\n",
       "      <td>36.6</td>\n",
       "      <td>0.534</td>\n",
       "      <td>11.6</td>\n",
       "      <td>10.0</td>\n",
       "      <td>27.1</td>\n",
       "      <td>10.0</td>\n",
       "      <td>27.6</td>\n",
       "      <td>19.0</td>\n",
       "      <td>9.6</td>\n",
       "      <td>12072000</td>\n",
       "      <td>4</td>\n",
       "    </tr>\n",
       "    <tr>\n",
       "      <th>2</th>\n",
       "      <td>67</td>\n",
       "      <td>39.9</td>\n",
       "      <td>0.526</td>\n",
       "      <td>15.8</td>\n",
       "      <td>7.7</td>\n",
       "      <td>30.9</td>\n",
       "      <td>4.0</td>\n",
       "      <td>13.3</td>\n",
       "      <td>8.5</td>\n",
       "      <td>10.8</td>\n",
       "      <td>12072000</td>\n",
       "      <td>4</td>\n",
       "    </tr>\n",
       "    <tr>\n",
       "      <th>3</th>\n",
       "      <td>67</td>\n",
       "      <td>36.8</td>\n",
       "      <td>0.578</td>\n",
       "      <td>12.0</td>\n",
       "      <td>11.9</td>\n",
       "      <td>23.9</td>\n",
       "      <td>11.0</td>\n",
       "      <td>24.4</td>\n",
       "      <td>17.7</td>\n",
       "      <td>8.4</td>\n",
       "      <td>23571000</td>\n",
       "      <td>4</td>\n",
       "    </tr>\n",
       "    <tr>\n",
       "      <th>4</th>\n",
       "      <td>65</td>\n",
       "      <td>37.6</td>\n",
       "      <td>0.551</td>\n",
       "      <td>17.2</td>\n",
       "      <td>8.9</td>\n",
       "      <td>27.0</td>\n",
       "      <td>5.0</td>\n",
       "      <td>12.0</td>\n",
       "      <td>8.3</td>\n",
       "      <td>8.4</td>\n",
       "      <td>12375000</td>\n",
       "      <td>4</td>\n",
       "    </tr>\n",
       "    <tr>\n",
       "      <th>...</th>\n",
       "      <td>...</td>\n",
       "      <td>...</td>\n",
       "      <td>...</td>\n",
       "      <td>...</td>\n",
       "      <td>...</td>\n",
       "      <td>...</td>\n",
       "      <td>...</td>\n",
       "      <td>...</td>\n",
       "      <td>...</td>\n",
       "      <td>...</td>\n",
       "      <td>...</td>\n",
       "      <td>...</td>\n",
       "    </tr>\n",
       "    <tr>\n",
       "      <th>3991</th>\n",
       "      <td>72</td>\n",
       "      <td>16.8</td>\n",
       "      <td>0.534</td>\n",
       "      <td>13.8</td>\n",
       "      <td>10.4</td>\n",
       "      <td>13.8</td>\n",
       "      <td>3.8</td>\n",
       "      <td>10.1</td>\n",
       "      <td>6.9</td>\n",
       "      <td>0.4</td>\n",
       "      <td>7612172</td>\n",
       "      <td>3</td>\n",
       "    </tr>\n",
       "    <tr>\n",
       "      <th>3995</th>\n",
       "      <td>74</td>\n",
       "      <td>31.6</td>\n",
       "      <td>0.542</td>\n",
       "      <td>17.1</td>\n",
       "      <td>9.9</td>\n",
       "      <td>14.2</td>\n",
       "      <td>4.9</td>\n",
       "      <td>14.2</td>\n",
       "      <td>9.6</td>\n",
       "      <td>0.6</td>\n",
       "      <td>11233146</td>\n",
       "      <td>4</td>\n",
       "    </tr>\n",
       "    <tr>\n",
       "      <th>3997</th>\n",
       "      <td>39</td>\n",
       "      <td>26.6</td>\n",
       "      <td>0.543</td>\n",
       "      <td>18.1</td>\n",
       "      <td>11.8</td>\n",
       "      <td>8.7</td>\n",
       "      <td>7.8</td>\n",
       "      <td>12.2</td>\n",
       "      <td>9.9</td>\n",
       "      <td>0.2</td>\n",
       "      <td>2183072</td>\n",
       "      <td>2</td>\n",
       "    </tr>\n",
       "    <tr>\n",
       "      <th>4000</th>\n",
       "      <td>72</td>\n",
       "      <td>31.5</td>\n",
       "      <td>0.513</td>\n",
       "      <td>13.9</td>\n",
       "      <td>8.5</td>\n",
       "      <td>17.5</td>\n",
       "      <td>1.4</td>\n",
       "      <td>12.8</td>\n",
       "      <td>6.9</td>\n",
       "      <td>0.4</td>\n",
       "      <td>1015696</td>\n",
       "      <td>1</td>\n",
       "    </tr>\n",
       "    <tr>\n",
       "      <th>4001</th>\n",
       "      <td>58</td>\n",
       "      <td>17.7</td>\n",
       "      <td>0.523</td>\n",
       "      <td>17.1</td>\n",
       "      <td>8.9</td>\n",
       "      <td>14.3</td>\n",
       "      <td>1.9</td>\n",
       "      <td>15.1</td>\n",
       "      <td>8.2</td>\n",
       "      <td>0.2</td>\n",
       "      <td>4264057</td>\n",
       "      <td>3</td>\n",
       "    </tr>\n",
       "  </tbody>\n",
       "</table>\n",
       "<p>3137 rows × 12 columns</p>\n",
       "</div>"
      ],
      "text/plain": [
       "      gp   mpg    ts%   ast    to   usg   orr   drr  rebr   ewa    Salary  \\\n",
       "0     82  39.4  0.547  16.8   8.7  27.1   9.0  30.0  20.1  14.5  25200000   \n",
       "1     69  36.6  0.534  11.6  10.0  27.1  10.0  27.6  19.0   9.6  12072000   \n",
       "2     67  39.9  0.526  15.8   7.7  30.9   4.0  13.3   8.5  10.8  12072000   \n",
       "3     67  36.8  0.578  12.0  11.9  23.9  11.0  24.4  17.7   8.4  23571000   \n",
       "4     65  37.6  0.551  17.2   8.9  27.0   5.0  12.0   8.3   8.4  12375000   \n",
       "...   ..   ...    ...   ...   ...   ...   ...   ...   ...   ...       ...   \n",
       "3991  72  16.8  0.534  13.8  10.4  13.8   3.8  10.1   6.9   0.4   7612172   \n",
       "3995  74  31.6  0.542  17.1   9.9  14.2   4.9  14.2   9.6   0.6  11233146   \n",
       "3997  39  26.6  0.543  18.1  11.8   8.7   7.8  12.2   9.9   0.2   2183072   \n",
       "4000  72  31.5  0.513  13.9   8.5  17.5   1.4  12.8   6.9   0.4   1015696   \n",
       "4001  58  17.7  0.523  17.1   8.9  14.3   1.9  15.1   8.2   0.2   4264057   \n",
       "\n",
       "      class  \n",
       "0         4  \n",
       "1         4  \n",
       "2         4  \n",
       "3         4  \n",
       "4         4  \n",
       "...     ...  \n",
       "3991      3  \n",
       "3995      4  \n",
       "3997      2  \n",
       "4000      1  \n",
       "4001      3  \n",
       "\n",
       "[3137 rows x 12 columns]"
      ]
     },
     "execution_count": 21,
     "metadata": {},
     "output_type": "execute_result"
    }
   ],
   "source": [
    "salary_stats_data"
   ]
  },
  {
   "cell_type": "markdown",
   "metadata": {},
   "source": [
    "### Distribution of Data"
   ]
  },
  {
   "cell_type": "code",
   "execution_count": 22,
   "metadata": {},
   "outputs": [
    {
     "data": {
      "text/html": [
       "<div>\n",
       "<style scoped>\n",
       "    .dataframe tbody tr th:only-of-type {\n",
       "        vertical-align: middle;\n",
       "    }\n",
       "\n",
       "    .dataframe tbody tr th {\n",
       "        vertical-align: top;\n",
       "    }\n",
       "\n",
       "    .dataframe thead th {\n",
       "        text-align: right;\n",
       "    }\n",
       "</style>\n",
       "<table border=\"1\" class=\"dataframe\">\n",
       "  <thead>\n",
       "    <tr style=\"text-align: right;\">\n",
       "      <th></th>\n",
       "      <th>count</th>\n",
       "      <th>mean</th>\n",
       "      <th>std</th>\n",
       "      <th>min</th>\n",
       "      <th>25%</th>\n",
       "      <th>50%</th>\n",
       "      <th>75%</th>\n",
       "      <th>max</th>\n",
       "    </tr>\n",
       "  </thead>\n",
       "  <tbody>\n",
       "    <tr>\n",
       "      <th>gp</th>\n",
       "      <td>3137.0</td>\n",
       "      <td>6.836500e+01</td>\n",
       "      <td>1.257281e+01</td>\n",
       "      <td>28.000</td>\n",
       "      <td>61.000</td>\n",
       "      <td>72.000</td>\n",
       "      <td>79.000</td>\n",
       "      <td>8.500000e+01</td>\n",
       "    </tr>\n",
       "    <tr>\n",
       "      <th>mpg</th>\n",
       "      <td>3137.0</td>\n",
       "      <td>2.710143e+01</td>\n",
       "      <td>7.376215e+00</td>\n",
       "      <td>8.600</td>\n",
       "      <td>21.400</td>\n",
       "      <td>27.700</td>\n",
       "      <td>33.200</td>\n",
       "      <td>4.310000e+01</td>\n",
       "    </tr>\n",
       "    <tr>\n",
       "      <th>ts%</th>\n",
       "      <td>3137.0</td>\n",
       "      <td>5.470743e-01</td>\n",
       "      <td>4.094221e-02</td>\n",
       "      <td>0.397</td>\n",
       "      <td>0.519</td>\n",
       "      <td>0.545</td>\n",
       "      <td>0.573</td>\n",
       "      <td>7.250000e-01</td>\n",
       "    </tr>\n",
       "    <tr>\n",
       "      <th>ast</th>\n",
       "      <td>3137.0</td>\n",
       "      <td>1.589366e+01</td>\n",
       "      <td>7.924549e+00</td>\n",
       "      <td>1.800</td>\n",
       "      <td>9.800</td>\n",
       "      <td>14.000</td>\n",
       "      <td>20.500</td>\n",
       "      <td>4.530000e+01</td>\n",
       "    </tr>\n",
       "    <tr>\n",
       "      <th>to</th>\n",
       "      <td>3137.0</td>\n",
       "      <td>1.068419e+01</td>\n",
       "      <td>2.544632e+00</td>\n",
       "      <td>2.400</td>\n",
       "      <td>9.000</td>\n",
       "      <td>10.500</td>\n",
       "      <td>12.100</td>\n",
       "      <td>2.510000e+01</td>\n",
       "    </tr>\n",
       "    <tr>\n",
       "      <th>usg</th>\n",
       "      <td>3137.0</td>\n",
       "      <td>1.936819e+01</td>\n",
       "      <td>4.743424e+00</td>\n",
       "      <td>6.300</td>\n",
       "      <td>16.000</td>\n",
       "      <td>18.900</td>\n",
       "      <td>22.400</td>\n",
       "      <td>4.250000e+01</td>\n",
       "    </tr>\n",
       "    <tr>\n",
       "      <th>orr</th>\n",
       "      <td>3137.0</td>\n",
       "      <td>5.546605e+00</td>\n",
       "      <td>3.942677e+00</td>\n",
       "      <td>0.500</td>\n",
       "      <td>2.100</td>\n",
       "      <td>4.100</td>\n",
       "      <td>8.600</td>\n",
       "      <td>2.200000e+01</td>\n",
       "    </tr>\n",
       "    <tr>\n",
       "      <th>drr</th>\n",
       "      <td>3137.0</td>\n",
       "      <td>1.553806e+01</td>\n",
       "      <td>6.135458e+00</td>\n",
       "      <td>5.100</td>\n",
       "      <td>10.300</td>\n",
       "      <td>14.500</td>\n",
       "      <td>20.000</td>\n",
       "      <td>3.800000e+01</td>\n",
       "    </tr>\n",
       "    <tr>\n",
       "      <th>rebr</th>\n",
       "      <td>3137.0</td>\n",
       "      <td>1.054976e+01</td>\n",
       "      <td>4.745305e+00</td>\n",
       "      <td>2.900</td>\n",
       "      <td>6.400</td>\n",
       "      <td>9.600</td>\n",
       "      <td>14.200</td>\n",
       "      <td>2.670000e+01</td>\n",
       "    </tr>\n",
       "    <tr>\n",
       "      <th>ewa</th>\n",
       "      <td>3137.0</td>\n",
       "      <td>5.129200e+00</td>\n",
       "      <td>4.898554e+00</td>\n",
       "      <td>0.100</td>\n",
       "      <td>1.600</td>\n",
       "      <td>3.500</td>\n",
       "      <td>7.100</td>\n",
       "      <td>3.230000e+01</td>\n",
       "    </tr>\n",
       "    <tr>\n",
       "      <th>Salary</th>\n",
       "      <td>3137.0</td>\n",
       "      <td>6.276102e+06</td>\n",
       "      <td>5.451663e+06</td>\n",
       "      <td>570515.000</td>\n",
       "      <td>2055840.000</td>\n",
       "      <td>4319280.000</td>\n",
       "      <td>9185000.000</td>\n",
       "      <td>3.096345e+07</td>\n",
       "    </tr>\n",
       "    <tr>\n",
       "      <th>class</th>\n",
       "      <td>3137.0</td>\n",
       "      <td>2.655722e+00</td>\n",
       "      <td>1.101972e+00</td>\n",
       "      <td>1.000</td>\n",
       "      <td>2.000</td>\n",
       "      <td>3.000</td>\n",
       "      <td>4.000</td>\n",
       "      <td>4.000000e+00</td>\n",
       "    </tr>\n",
       "  </tbody>\n",
       "</table>\n",
       "</div>"
      ],
      "text/plain": [
       "         count          mean           std         min          25%  \\\n",
       "gp      3137.0  6.836500e+01  1.257281e+01      28.000       61.000   \n",
       "mpg     3137.0  2.710143e+01  7.376215e+00       8.600       21.400   \n",
       "ts%     3137.0  5.470743e-01  4.094221e-02       0.397        0.519   \n",
       "ast     3137.0  1.589366e+01  7.924549e+00       1.800        9.800   \n",
       "to      3137.0  1.068419e+01  2.544632e+00       2.400        9.000   \n",
       "usg     3137.0  1.936819e+01  4.743424e+00       6.300       16.000   \n",
       "orr     3137.0  5.546605e+00  3.942677e+00       0.500        2.100   \n",
       "drr     3137.0  1.553806e+01  6.135458e+00       5.100       10.300   \n",
       "rebr    3137.0  1.054976e+01  4.745305e+00       2.900        6.400   \n",
       "ewa     3137.0  5.129200e+00  4.898554e+00       0.100        1.600   \n",
       "Salary  3137.0  6.276102e+06  5.451663e+06  570515.000  2055840.000   \n",
       "class   3137.0  2.655722e+00  1.101972e+00       1.000        2.000   \n",
       "\n",
       "                50%          75%           max  \n",
       "gp           72.000       79.000  8.500000e+01  \n",
       "mpg          27.700       33.200  4.310000e+01  \n",
       "ts%           0.545        0.573  7.250000e-01  \n",
       "ast          14.000       20.500  4.530000e+01  \n",
       "to           10.500       12.100  2.510000e+01  \n",
       "usg          18.900       22.400  4.250000e+01  \n",
       "orr           4.100        8.600  2.200000e+01  \n",
       "drr          14.500       20.000  3.800000e+01  \n",
       "rebr          9.600       14.200  2.670000e+01  \n",
       "ewa           3.500        7.100  3.230000e+01  \n",
       "Salary  4319280.000  9185000.000  3.096345e+07  \n",
       "class         3.000        4.000  4.000000e+00  "
      ]
     },
     "execution_count": 22,
     "metadata": {},
     "output_type": "execute_result"
    }
   ],
   "source": [
    "# another summary of data\n",
    "summary2 = salary_stats_data.describe().T\n",
    "summary2"
   ]
  },
  {
   "cell_type": "code",
   "execution_count": 23,
   "metadata": {},
   "outputs": [],
   "source": [
    "# will now look at the distribution of data with respect to each feature. Important to see if any features need transformation prior to scaling (or what type of scaling to use)\n",
    "\n",
    "# split salary_stats_data into x and y data\n",
    "xcols = ['gp', 'mpg', 'ts%', 'ast', 'to', 'usg', 'orr', 'drr', 'rebr', 'ewa']\n",
    "ycol = 'class'\n",
    "scol = 'Salary'"
   ]
  },
  {
   "cell_type": "code",
   "execution_count": 24,
   "metadata": {},
   "outputs": [
    {
     "data": {
      "text/plain": [
       "<AxesSubplot:ylabel='Frequency'>"
      ]
     },
     "execution_count": 24,
     "metadata": {},
     "output_type": "execute_result"
    },
    {
     "data": {
      "image/png": "[encoded data removed]",
      "text/plain": [
       "<Figure size 432x288 with 1 Axes>"
      ]
     },
     "metadata": {
      "needs_background": "light"
     },
     "output_type": "display_data"
    }
   ],
   "source": [
    "# will first lok at distribution of the Salary (s col) feature\n",
    "s = salary_stats_data[scol]\n",
    "s.plot.hist()"
   ]
  },
  {
   "cell_type": "markdown",
   "metadata": {},
   "source": [
    "As we can see, a disporoprtionately large amount of the salry data is skewed towards lower salaries (there are a lot more role players than stars)\n",
    "\n",
    "We will attempt to corroborate tnis by doing a value count on the ordinal class feature"
   ]
  },
  {
   "cell_type": "code",
   "execution_count": 25,
   "metadata": {},
   "outputs": [
    {
     "name": "stdout",
     "output_type": "stream",
     "text": [
      "Raw Counts:  4    932\n",
      "3    811\n",
      "2    776\n",
      "1    618\n",
      "Name: class, dtype: int64\n",
      "Normalized:  4    0.297099\n",
      "3    0.258527\n",
      "2    0.247370\n",
      "1    0.197004\n",
      "Name: class, dtype: float64\n"
     ]
    }
   ],
   "source": [
    "# count on ordinal class feature\n",
    "y = salary_stats_data[ycol]\n",
    "\n",
    "# get a feature count\n",
    "y_count = y.value_counts()\n",
    "y_count_norm = y.value_counts(normalize = True)\n",
    "print('Raw Counts: ', y_count)\n",
    "print('Normalized: ', y_count_norm)"
   ]
  },
  {
   "cell_type": "markdown",
   "metadata": {},
   "source": [
    "By binning/classifying data according to salary quartiles we've been able to create a reasonably balanced data set from quite imbalanced salary data"
   ]
  },
  {
   "cell_type": "code",
   "execution_count": 26,
   "metadata": {},
   "outputs": [
    {
     "data": {
      "text/plain": [
       "array([[<AxesSubplot:title={'center':'gp'}>,\n",
       "        <AxesSubplot:title={'center':'mpg'}>,\n",
       "        <AxesSubplot:title={'center':'ts%'}>],\n",
       "       [<AxesSubplot:title={'center':'ast'}>,\n",
       "        <AxesSubplot:title={'center':'to'}>,\n",
       "        <AxesSubplot:title={'center':'usg'}>],\n",
       "       [<AxesSubplot:title={'center':'orr'}>,\n",
       "        <AxesSubplot:title={'center':'drr'}>,\n",
       "        <AxesSubplot:title={'center':'rebr'}>],\n",
       "       [<AxesSubplot:title={'center':'ewa'}>, <AxesSubplot:>,\n",
       "        <AxesSubplot:>]], dtype=object)"
      ]
     },
     "execution_count": 26,
     "metadata": {},
     "output_type": "execute_result"
    },
    {
     "data": {
      "image/png": "[encoded data removed]",
      "text/plain": [
       "<Figure size 432x288 with 12 Axes>"
      ]
     },
     "metadata": {
      "needs_background": "light"
     },
     "output_type": "display_data"
    }
   ],
   "source": [
    "# next, lets look at distributions of each feature, to investigate what type of scaling is appropriate prior to classification\n",
    "x = salary_stats_data[xcols]\n",
    "\n",
    "# plot a histogram of each feature\n",
    "x.hist()"
   ]
  },
  {
   "cell_type": "markdown",
   "metadata": {},
   "source": [
    "In my literature reviews (Python Machine Learning) it suggests that standardizing data is more beneficial than min/max scaling for classification mehtods. So, we will transform data to get the distributions normal and then use standard scaling\n",
    "\n",
    "As seen, some features are close to nomally distributed, while ost others are not. We will use a boxcox transformation, to get each feature as close to normally distributed as possible befoe standardizing"
   ]
  },
  {
   "cell_type": "code",
   "execution_count": 27,
   "metadata": {},
   "outputs": [
    {
     "data": {
      "text/html": [
       "<div>\n",
       "<style scoped>\n",
       "    .dataframe tbody tr th:only-of-type {\n",
       "        vertical-align: middle;\n",
       "    }\n",
       "\n",
       "    .dataframe tbody tr th {\n",
       "        vertical-align: top;\n",
       "    }\n",
       "\n",
       "    .dataframe thead th {\n",
       "        text-align: right;\n",
       "    }\n",
       "</style>\n",
       "<table border=\"1\" class=\"dataframe\">\n",
       "  <thead>\n",
       "    <tr style=\"text-align: right;\">\n",
       "      <th></th>\n",
       "      <th>gp</th>\n",
       "      <th>mpg</th>\n",
       "      <th>ts%</th>\n",
       "      <th>ast</th>\n",
       "      <th>to</th>\n",
       "      <th>usg</th>\n",
       "      <th>orr</th>\n",
       "      <th>drr</th>\n",
       "      <th>rebr</th>\n",
       "      <th>ewa</th>\n",
       "    </tr>\n",
       "  </thead>\n",
       "  <tbody>\n",
       "    <tr>\n",
       "      <th>0</th>\n",
       "      <td>585680.522410</td>\n",
       "      <td>99.743477</td>\n",
       "      <td>-0.616584</td>\n",
       "      <td>3.534304</td>\n",
       "      <td>3.045367</td>\n",
       "      <td>7.094588</td>\n",
       "      <td>2.527227</td>\n",
       "      <td>3.863212</td>\n",
       "      <td>3.359839</td>\n",
       "      <td>3.688155</td>\n",
       "    </tr>\n",
       "    <tr>\n",
       "      <th>1</th>\n",
       "      <td>332287.668635</td>\n",
       "      <td>90.337191</td>\n",
       "      <td>-0.641725</td>\n",
       "      <td>2.978200</td>\n",
       "      <td>3.317502</td>\n",
       "      <td>7.094588</td>\n",
       "      <td>2.666659</td>\n",
       "      <td>3.756522</td>\n",
       "      <td>3.289716</td>\n",
       "      <td>2.962528</td>\n",
       "    </tr>\n",
       "    <tr>\n",
       "      <th>2</th>\n",
       "      <td>301696.227400</td>\n",
       "      <td>101.447208</td>\n",
       "      <td>-0.657524</td>\n",
       "      <td>3.439952</td>\n",
       "      <td>2.815941</td>\n",
       "      <td>7.628463</td>\n",
       "      <td>1.513150</td>\n",
       "      <td>2.849751</td>\n",
       "      <td>2.318768</td>\n",
       "      <td>3.162840</td>\n",
       "    </tr>\n",
       "    <tr>\n",
       "      <th>3</th>\n",
       "      <td>301696.227400</td>\n",
       "      <td>91.001356</td>\n",
       "      <td>-0.559129</td>\n",
       "      <td>3.027793</td>\n",
       "      <td>3.673792</td>\n",
       "      <td>6.610026</td>\n",
       "      <td>2.794376</td>\n",
       "      <td>3.600032</td>\n",
       "      <td>3.201825</td>\n",
       "      <td>2.741867</td>\n",
       "    </tr>\n",
       "    <tr>\n",
       "      <th>4</th>\n",
       "      <td>273120.499222</td>\n",
       "      <td>93.670006</td>\n",
       "      <td>-0.608977</td>\n",
       "      <td>3.570718</td>\n",
       "      <td>3.089008</td>\n",
       "      <td>7.079966</td>\n",
       "      <td>1.782060</td>\n",
       "      <td>2.725855</td>\n",
       "      <td>2.290898</td>\n",
       "      <td>2.741867</td>\n",
       "    </tr>\n",
       "    <tr>\n",
       "      <th>...</th>\n",
       "      <td>...</td>\n",
       "      <td>...</td>\n",
       "      <td>...</td>\n",
       "      <td>...</td>\n",
       "      <td>...</td>\n",
       "      <td>...</td>\n",
       "      <td>...</td>\n",
       "      <td>...</td>\n",
       "      <td>...</td>\n",
       "      <td>...</td>\n",
       "    </tr>\n",
       "    <tr>\n",
       "      <th>3132</th>\n",
       "      <td>382124.108017</td>\n",
       "      <td>31.507262</td>\n",
       "      <td>-0.641725</td>\n",
       "      <td>3.235000</td>\n",
       "      <td>3.396218</td>\n",
       "      <td>4.766276</td>\n",
       "      <td>1.452385</td>\n",
       "      <td>2.520311</td>\n",
       "      <td>2.076327</td>\n",
       "      <td>-0.826611</td>\n",
       "    </tr>\n",
       "    <tr>\n",
       "      <th>3133</th>\n",
       "      <td>418095.508729</td>\n",
       "      <td>74.137813</td>\n",
       "      <td>-0.626177</td>\n",
       "      <td>3.561682</td>\n",
       "      <td>3.297479</td>\n",
       "      <td>4.852146</td>\n",
       "      <td>1.757405</td>\n",
       "      <td>2.929111</td>\n",
       "      <td>2.461984</td>\n",
       "      <td>-0.482102</td>\n",
       "    </tr>\n",
       "    <tr>\n",
       "      <th>3134</th>\n",
       "      <td>51040.278574</td>\n",
       "      <td>58.773051</td>\n",
       "      <td>-0.624251</td>\n",
       "      <td>3.650101</td>\n",
       "      <td>3.656075</td>\n",
       "      <td>3.512522</td>\n",
       "      <td>2.340757</td>\n",
       "      <td>2.745702</td>\n",
       "      <td>2.498401</td>\n",
       "      <td>-1.346350</td>\n",
       "    </tr>\n",
       "    <tr>\n",
       "      <th>3135</th>\n",
       "      <td>382124.108017</td>\n",
       "      <td>73.822043</td>\n",
       "      <td>-0.683757</td>\n",
       "      <td>3.245826</td>\n",
       "      <td>3.001018</td>\n",
       "      <td>5.512201</td>\n",
       "      <td>0.343621</td>\n",
       "      <td>2.803485</td>\n",
       "      <td>2.076327</td>\n",
       "      <td>-0.826611</td>\n",
       "    </tr>\n",
       "    <tr>\n",
       "      <th>3136</th>\n",
       "      <td>187875.071638</td>\n",
       "      <td>33.831336</td>\n",
       "      <td>-0.663516</td>\n",
       "      <td>3.561682</td>\n",
       "      <td>3.089008</td>\n",
       "      <td>4.873392</td>\n",
       "      <td>0.668203</td>\n",
       "      <td>3.003939</td>\n",
       "      <td>2.276729</td>\n",
       "      <td>-1.346350</td>\n",
       "    </tr>\n",
       "  </tbody>\n",
       "</table>\n",
       "<p>3137 rows × 10 columns</p>\n",
       "</div>"
      ],
      "text/plain": [
       "                 gp         mpg       ts%       ast        to       usg  \\\n",
       "0     585680.522410   99.743477 -0.616584  3.534304  3.045367  7.094588   \n",
       "1     332287.668635   90.337191 -0.641725  2.978200  3.317502  7.094588   \n",
       "2     301696.227400  101.447208 -0.657524  3.439952  2.815941  7.628463   \n",
       "3     301696.227400   91.001356 -0.559129  3.027793  3.673792  6.610026   \n",
       "4     273120.499222   93.670006 -0.608977  3.570718  3.089008  7.079966   \n",
       "...             ...         ...       ...       ...       ...       ...   \n",
       "3132  382124.108017   31.507262 -0.641725  3.235000  3.396218  4.766276   \n",
       "3133  418095.508729   74.137813 -0.626177  3.561682  3.297479  4.852146   \n",
       "3134   51040.278574   58.773051 -0.624251  3.650101  3.656075  3.512522   \n",
       "3135  382124.108017   73.822043 -0.683757  3.245826  3.001018  5.512201   \n",
       "3136  187875.071638   33.831336 -0.663516  3.561682  3.089008  4.873392   \n",
       "\n",
       "           orr       drr      rebr       ewa  \n",
       "0     2.527227  3.863212  3.359839  3.688155  \n",
       "1     2.666659  3.756522  3.289716  2.962528  \n",
       "2     1.513150  2.849751  2.318768  3.162840  \n",
       "3     2.794376  3.600032  3.201825  2.741867  \n",
       "4     1.782060  2.725855  2.290898  2.741867  \n",
       "...        ...       ...       ...       ...  \n",
       "3132  1.452385  2.520311  2.076327 -0.826611  \n",
       "3133  1.757405  2.929111  2.461984 -0.482102  \n",
       "3134  2.340757  2.745702  2.498401 -1.346350  \n",
       "3135  0.343621  2.803485  2.076327 -0.826611  \n",
       "3136  0.668203  3.003939  2.276729 -1.346350  \n",
       "\n",
       "[3137 rows x 10 columns]"
      ]
     },
     "execution_count": 27,
     "metadata": {},
     "output_type": "execute_result"
    }
   ],
   "source": [
    "# box cox transformation of the indepdentdent variables/features (x)\n",
    "from scipy.stats import boxcox\n",
    "\n",
    "# will need to perform transformation on each series and concatenate into a dataframe\n",
    "cols = x.columns.tolist()\n",
    "x_bc = pd.DataFrame()\n",
    "for col in cols:\n",
    "    a = pd.Series(boxcox(x[col])[0])\n",
    "    x_bc[col] = a\n",
    "x_bc"
   ]
  },
  {
   "cell_type": "code",
   "execution_count": 28,
   "metadata": {},
   "outputs": [
    {
     "data": {
      "text/plain": [
       "array([[<AxesSubplot:title={'center':'gp'}>,\n",
       "        <AxesSubplot:title={'center':'mpg'}>,\n",
       "        <AxesSubplot:title={'center':'ts%'}>],\n",
       "       [<AxesSubplot:title={'center':'ast'}>,\n",
       "        <AxesSubplot:title={'center':'to'}>,\n",
       "        <AxesSubplot:title={'center':'usg'}>],\n",
       "       [<AxesSubplot:title={'center':'orr'}>,\n",
       "        <AxesSubplot:title={'center':'drr'}>,\n",
       "        <AxesSubplot:title={'center':'rebr'}>],\n",
       "       [<AxesSubplot:title={'center':'ewa'}>, <AxesSubplot:>,\n",
       "        <AxesSubplot:>]], dtype=object)"
      ]
     },
     "execution_count": 28,
     "metadata": {},
     "output_type": "execute_result"
    },
    {
     "data": {
      "image/png": "[encoded data removed]",
      "text/plain": [
       "<Figure size 432x288 with 12 Axes>"
      ]
     },
     "metadata": {
      "needs_background": "light"
     },
     "output_type": "display_data"
    }
   ],
   "source": [
    "# now plot a histogram of the boxcox transformed features\n",
    "x_bc.hist()"
   ]
  },
  {
   "cell_type": "markdown",
   "metadata": {},
   "source": [
    "#### Correlation Between Data & Features"
   ]
  },
  {
   "cell_type": "markdown",
   "metadata": {},
   "source": [
    "Since one of the models we will be using is a Logistic regression, let's check correlations between features and the numerical salary output"
   ]
  },
  {
   "cell_type": "code",
   "execution_count": 29,
   "metadata": {},
   "outputs": [
    {
     "data": {
      "image/png": "[encoded data removed]",
      "text/plain": [
       "<Figure size 432x288 with 2 Axes>"
      ]
     },
     "metadata": {
      "needs_background": "light"
     },
     "output_type": "display_data"
    }
   ],
   "source": [
    "corr_x_s = salary_stats_data.corr()\n",
    "\n",
    "# plot the heatmap\n",
    "hm = sns.heatmap(corr_x_s, cmap = 'BrBG')"
   ]
  },
  {
   "cell_type": "markdown",
   "metadata": {},
   "source": [
    "Salary has somewhere between low and high correlation with each of the variables. this will liekly increase when binning"
   ]
  },
  {
   "cell_type": "markdown",
   "metadata": {},
   "source": [
    "#### Standardize Data & Train Test Splits"
   ]
  },
  {
   "cell_type": "code",
   "execution_count": 30,
   "metadata": {},
   "outputs": [
    {
     "name": "stdout",
     "output_type": "stream",
     "text": [
      "x train:  (2195, 10)\n",
      "x test: (942, 10)\n",
      "y train:  (2195,)\n",
      "y test:  (942,)\n"
     ]
    }
   ],
   "source": [
    "# remebering that the vatiables/targets we will be classifying on are y and x_bc (boxcox transformed x variables)\n",
    "# use the stratified shuffle split to ensure that each class keeps its balance\n",
    "\n",
    "from sklearn.model_selection import StratifiedShuffleSplit\n",
    "features = x_bc.columns\n",
    "\n",
    "# Get the split indexes\n",
    "strat_shuf_split = StratifiedShuffleSplit(n_splits=1,test_size=0.3, random_state=42)\n",
    "\n",
    "# call split method and pass x, y values. next calls the train/test indices\n",
    "train_idx, test_idx = next(strat_shuf_split.split(x_bc, y))\n",
    "\n",
    "# Create the dataframes\n",
    "x_bc_train = x_bc.loc[train_idx, features]\n",
    "y_train = y.iloc[train_idx]\n",
    "\n",
    "x_bc_test  = x_bc.loc[test_idx, features]\n",
    "y_test  = y.iloc[test_idx]\n",
    "\n",
    "print('x train: ', x_bc_train.shape)\n",
    "print('x test:', x_bc_test.shape)\n",
    "print('y train: ', y_train.shape)\n",
    "print('y test: ', y_test.shape)"
   ]
  },
  {
   "cell_type": "code",
   "execution_count": 31,
   "metadata": {},
   "outputs": [
    {
     "name": "stdout",
     "output_type": "stream",
     "text": [
      "y train:  4    0.297039\n",
      "3    0.258770\n",
      "2    0.247380\n",
      "1    0.196811\n",
      "Name: class, dtype: float64\n",
      "y test:  4    0.297240\n",
      "3    0.257962\n",
      "2    0.247346\n",
      "1    0.197452\n",
      "Name: class, dtype: float64\n"
     ]
    }
   ],
   "source": [
    "# check value counts of y_train and y_test, normalized\n",
    "print('y train: ', y_train.value_counts(normalize = True))\n",
    "print('y test: ', y_test.value_counts(normalize = True))"
   ]
  },
  {
   "cell_type": "markdown",
   "metadata": {},
   "source": [
    "As expected, the data sets kept their class distribution through the split"
   ]
  },
  {
   "cell_type": "code",
   "execution_count": 32,
   "metadata": {},
   "outputs": [],
   "source": [
    "# now scale the data for regression using the StandardScaler\n",
    "from sklearn.preprocessing import StandardScaler\n",
    "\n",
    "# scale the data\n",
    "s = StandardScaler()\n",
    "x_bc_train_s = s.fit_transform(x_bc_train)\n",
    "x_bc_test_s = s.transform(x_bc_test)"
   ]
  },
  {
   "cell_type": "markdown",
   "metadata": {},
   "source": [
    "#### Logistic Regression"
   ]
  },
  {
   "cell_type": "code",
   "execution_count": 33,
   "metadata": {},
   "outputs": [],
   "source": [
    "# will fit a logistic regression model using the LogisticRegressionCV function\n",
    "# cs = 10 - will iterate over 10 different values\n",
    "# cv = 4 - will use 4 fold cross validation\n",
    "# penalty - choose l2\n",
    "# solver = liblinear, since the data set is small\n",
    "from sklearn.linear_model import LogisticRegressionCV\n",
    "\n",
    "# create instance of model\n",
    "lr = LogisticRegressionCV(Cs = 10, cv = 4, penalty = 'l2', solver = 'liblinear')\n",
    "\n",
    "# fit the model\n",
    "lr = lr.fit(x_bc_train_s, y_train)\n",
    "\n",
    "# predict on the testing data\n",
    "y_pred = lr.predict(x_bc_test_s)\n",
    "y_pred_prob = lr.predict_proba(x_bc_test_s)"
   ]
  },
  {
   "cell_type": "code",
   "execution_count": 34,
   "metadata": {},
   "outputs": [
    {
     "data": {
      "text/html": [
       "<div>\n",
       "<style scoped>\n",
       "    .dataframe tbody tr th:only-of-type {\n",
       "        vertical-align: middle;\n",
       "    }\n",
       "\n",
       "    .dataframe tbody tr th {\n",
       "        vertical-align: top;\n",
       "    }\n",
       "\n",
       "    .dataframe thead th {\n",
       "        text-align: right;\n",
       "    }\n",
       "</style>\n",
       "<table border=\"1\" class=\"dataframe\">\n",
       "  <thead>\n",
       "    <tr style=\"text-align: right;\">\n",
       "      <th></th>\n",
       "      <th>y_test</th>\n",
       "      <th>y_pred</th>\n",
       "    </tr>\n",
       "  </thead>\n",
       "  <tbody>\n",
       "    <tr>\n",
       "      <th>0</th>\n",
       "      <td>1</td>\n",
       "      <td>3</td>\n",
       "    </tr>\n",
       "    <tr>\n",
       "      <th>1</th>\n",
       "      <td>2</td>\n",
       "      <td>4</td>\n",
       "    </tr>\n",
       "    <tr>\n",
       "      <th>2</th>\n",
       "      <td>2</td>\n",
       "      <td>3</td>\n",
       "    </tr>\n",
       "    <tr>\n",
       "      <th>3</th>\n",
       "      <td>4</td>\n",
       "      <td>3</td>\n",
       "    </tr>\n",
       "    <tr>\n",
       "      <th>4</th>\n",
       "      <td>4</td>\n",
       "      <td>3</td>\n",
       "    </tr>\n",
       "    <tr>\n",
       "      <th>...</th>\n",
       "      <td>...</td>\n",
       "      <td>...</td>\n",
       "    </tr>\n",
       "    <tr>\n",
       "      <th>937</th>\n",
       "      <td>1</td>\n",
       "      <td>3</td>\n",
       "    </tr>\n",
       "    <tr>\n",
       "      <th>938</th>\n",
       "      <td>1</td>\n",
       "      <td>3</td>\n",
       "    </tr>\n",
       "    <tr>\n",
       "      <th>939</th>\n",
       "      <td>2</td>\n",
       "      <td>3</td>\n",
       "    </tr>\n",
       "    <tr>\n",
       "      <th>940</th>\n",
       "      <td>2</td>\n",
       "      <td>3</td>\n",
       "    </tr>\n",
       "    <tr>\n",
       "      <th>941</th>\n",
       "      <td>1</td>\n",
       "      <td>3</td>\n",
       "    </tr>\n",
       "  </tbody>\n",
       "</table>\n",
       "<p>942 rows × 2 columns</p>\n",
       "</div>"
      ],
      "text/plain": [
       "     y_test  y_pred\n",
       "0         1       3\n",
       "1         2       4\n",
       "2         2       3\n",
       "3         4       3\n",
       "4         4       3\n",
       "..      ...     ...\n",
       "937       1       3\n",
       "938       1       3\n",
       "939       2       3\n",
       "940       2       3\n",
       "941       1       3\n",
       "\n",
       "[942 rows x 2 columns]"
      ]
     },
     "execution_count": 34,
     "metadata": {},
     "output_type": "execute_result"
    }
   ],
   "source": [
    "col1 = y_test\n",
    "col2 = y_pred.tolist()\n",
    "\n",
    "results_df = pd.DataFrame()\n",
    "results_df['y_test'] = col1\n",
    "results_df['y_pred'] = col2\n",
    "\n",
    "results_df = results_df.reset_index().drop('index', axis = 1)\n",
    "\n",
    "results_df"
   ]
  },
  {
   "cell_type": "code",
   "execution_count": 35,
   "metadata": {},
   "outputs": [
    {
     "name": "stdout",
     "output_type": "stream",
     "text": [
      "Precision:  0.32\n",
      "Recall:  0.36\n",
      "F1 score:  0.28\n",
      "Accuracy:  0.36\n"
     ]
    },
    {
     "name": "stderr",
     "output_type": "stream",
     "text": [
      "C:\\Users\\iaustin\\AppData\\Local\\Continuum\\anaconda3\\lib\\site-packages\\sklearn\\metrics\\_classification.py:1248: UndefinedMetricWarning: Precision and F-score are ill-defined and being set to 0.0 in labels with no predicted samples. Use `zero_division` parameter to control this behavior.\n",
      "  _warn_prf(average, modifier, msg_start, len(result))\n"
     ]
    },
    {
     "data": {
      "text/plain": [
       "<AxesSubplot:>"
      ]
     },
     "execution_count": 35,
     "metadata": {},
     "output_type": "execute_result"
    },
    {
     "data": {
      "image/png": "[encoded data removed]",
      "text/plain": [
       "<Figure size 864x432 with 2 Axes>"
      ]
     },
     "metadata": {
      "needs_background": "light"
     },
     "output_type": "display_data"
    }
   ],
   "source": [
    "# error metrics\n",
    "# calculate each error metric fr the model and expalin\n",
    "\n",
    "from sklearn.metrics import precision_recall_fscore_support as score\n",
    "from sklearn.metrics import confusion_matrix, accuracy_score\n",
    "\n",
    "precision, recall, fscore, _ = score(y_test, y_pred, average = 'weighted')\n",
    "accuracy = accuracy_score(y_test, y_pred)\n",
    "\n",
    "print('Precision: ', round(precision, 2))\n",
    "print('Recall: ', round(recall, 2))\n",
    "print('F1 score: ', round(fscore, 2))\n",
    "print('Accuracy: ', round(accuracy, 2))\n",
    "\n",
    "# prepare and plot the confusion matrix\n",
    "cm = confusion_matrix(y_test, y_pred)\n",
    "\n",
    "fig = plt.figure(figsize = (12, 6))\n",
    "sns.heatmap(cm, annot=True, fmt='d', cmap='BrBG')"
   ]
  },
  {
   "cell_type": "code",
   "execution_count": 36,
   "metadata": {},
   "outputs": [
    {
     "name": "stdout",
     "output_type": "stream",
     "text": [
      "              precision    recall  f1-score   support\n",
      "\n",
      "           1       0.36      0.05      0.09       186\n",
      "           2       0.00      0.00      0.00       233\n",
      "           3       0.28      0.83      0.42       243\n",
      "           4       0.60      0.45      0.52       280\n",
      "\n",
      "    accuracy                           0.36       942\n",
      "   macro avg       0.31      0.33      0.26       942\n",
      "weighted avg       0.32      0.36      0.28       942\n",
      "\n"
     ]
    },
    {
     "name": "stderr",
     "output_type": "stream",
     "text": [
      "C:\\Users\\iaustin\\AppData\\Local\\Continuum\\anaconda3\\lib\\site-packages\\sklearn\\metrics\\_classification.py:1248: UndefinedMetricWarning: Precision and F-score are ill-defined and being set to 0.0 in labels with no predicted samples. Use `zero_division` parameter to control this behavior.\n",
      "  _warn_prf(average, modifier, msg_start, len(result))\n",
      "C:\\Users\\iaustin\\AppData\\Local\\Continuum\\anaconda3\\lib\\site-packages\\sklearn\\metrics\\_classification.py:1248: UndefinedMetricWarning: Precision and F-score are ill-defined and being set to 0.0 in labels with no predicted samples. Use `zero_division` parameter to control this behavior.\n",
      "  _warn_prf(average, modifier, msg_start, len(result))\n",
      "C:\\Users\\iaustin\\AppData\\Local\\Continuum\\anaconda3\\lib\\site-packages\\sklearn\\metrics\\_classification.py:1248: UndefinedMetricWarning: Precision and F-score are ill-defined and being set to 0.0 in labels with no predicted samples. Use `zero_division` parameter to control this behavior.\n",
      "  _warn_prf(average, modifier, msg_start, len(result))\n"
     ]
    }
   ],
   "source": [
    "# review classification report\n",
    "from sklearn.metrics import classification_report\n",
    "print(classification_report(y_test, y_pred))"
   ]
  },
  {
   "cell_type": "markdown",
   "metadata": {},
   "source": [
    "Commentary:\n",
    "\n",
    "In general, the Logistic Regression does a poor job of classifying salary class based on Hollinger's Advanced Statistics. This could be for a number of reasons, including:\n",
    "\n",
    "- salary (by contract) is usually determined by past performance. Player's sign contracts based on past output, and to a smaller extent, the teams idea/projection of their future output. \n",
    "- as a player's circumstances change (age, injuries) it may be more difficult to match previous statistical output/efficiency\n",
    "- Changing Teams: how much of a player's statistical output is a function of the environment/system in which they were playing? \n",
    "- Advanced s Counting Stats: there are a large number of bench players, who's advanced statistics compare favorably in sall sample sizes, which could throw off salary predictions (the look like advanced stat stars in small sample, but are paid like the role players they are). Typically, in larger samples, their advanced stats regress to the level at which they're paid\n",
    "- the performance of a large number of players in the NBA is essentially interchangeable. This can be seen in the classification report - the higher the salary class (higher end/Star Players) the better job the algorithm does of predicting salary class. \n",
    "    - You can see Recall (% of actual positive predicted correctly), and Precision (true positives relative to total positives, especailly in Class 4) \n",
    "    - can see overall accuracy metrics increasing in salary class 3 and 4\n",
    "    \n",
    "Maybe a different type of classifier (distance based as poopsed to linearly/probability based) will do a better job"
   ]
  },
  {
   "cell_type": "markdown",
   "metadata": {},
   "source": [
    "#### KNN Classification"
   ]
  },
  {
   "cell_type": "code",
   "execution_count": 37,
   "metadata": {},
   "outputs": [],
   "source": [
    "# will run a loop, simulating the KNN algorithm for k of 1 to 40, in order to check the 'best' value of k\n",
    "from sklearn.neighbors import KNeighborsClassifier\n",
    "from sklearn.metrics import confusion_matrix, accuracy_score, classification_report, f1_score\n",
    "\n",
    "max_k = 40\n",
    "f1_scores = list()\n",
    "error_rates = list() # 1-accuracy\n",
    "\n",
    "for k in range(1, max_k):\n",
    "    \n",
    "    knn = KNeighborsClassifier(n_neighbors=k, weights='distance')\n",
    "    knn = knn.fit(x_bc_train_s, y_train)\n",
    "    \n",
    "    y_pred_nn = knn.predict(x_bc_test_s)\n",
    "    f1 = f1_score(y_pred_nn, y_test, average = 'weighted')\n",
    "    f1_scores.append((k, round(f1, 4)))\n",
    "    error = 1-round(accuracy_score(y_test, y_pred_nn), 4)\n",
    "    error_rates.append((k, error))\n",
    "    \n",
    "f1_results = pd.DataFrame(f1_scores, columns=['K', 'F1 Score'])\n",
    "error_results = pd.DataFrame(error_rates, columns=['K', 'Error Rate'])"
   ]
  },
  {
   "cell_type": "code",
   "execution_count": 38,
   "metadata": {},
   "outputs": [
    {
     "data": {
      "text/plain": [
       "[<matplotlib.axis.XTick at 0x16c335a0788>,\n",
       " <matplotlib.axis.XTick at 0x16c3358c688>,\n",
       " <matplotlib.axis.XTick at 0x16c33675688>,\n",
       " <matplotlib.axis.XTick at 0x16c335e3bc8>,\n",
       " <matplotlib.axis.XTick at 0x16c335e3e88>,\n",
       " <matplotlib.axis.XTick at 0x16c335ebb88>,\n",
       " <matplotlib.axis.XTick at 0x16c335f2a48>,\n",
       " <matplotlib.axis.XTick at 0x16c335f6d08>,\n",
       " <matplotlib.axis.XTick at 0x16c335f6448>,\n",
       " <matplotlib.axis.XTick at 0x16c335fbc08>,\n",
       " <matplotlib.axis.XTick at 0x16c335fe988>,\n",
       " <matplotlib.axis.XTick at 0x16c3358c148>,\n",
       " <matplotlib.axis.XTick at 0x16c33602f08>,\n",
       " <matplotlib.axis.XTick at 0x16c33606dc8>,\n",
       " <matplotlib.axis.XTick at 0x16c3360acc8>,\n",
       " <matplotlib.axis.XTick at 0x16c3360a648>,\n",
       " <matplotlib.axis.XTick at 0x16c3360e848>,\n",
       " <matplotlib.axis.XTick at 0x16c33611608>,\n",
       " <matplotlib.axis.XTick at 0x16c336143c8>,\n",
       " <matplotlib.axis.XTick at 0x16c33611d88>]"
      ]
     },
     "execution_count": 38,
     "metadata": {},
     "output_type": "execute_result"
    },
    {
     "data": {
      "text/plain": [
       "<Figure size 432x288 with 0 Axes>"
      ]
     },
     "metadata": {},
     "output_type": "display_data"
    },
    {
     "data": {
      "image/png": "[encoded data removed]",
      "text/plain": [
       "<Figure size 864x864 with 1 Axes>"
      ]
     },
     "metadata": {},
     "output_type": "display_data"
    }
   ],
   "source": [
    "# plot the values to determine the best k (by error rate)\n",
    "sns.set_context('talk')\n",
    "sns.set_style('ticks')\n",
    "\n",
    "fig = plt.figure()\n",
    "ax = error_results.set_index('K').plot(color=\"red\", figsize=(12, 12), linewidth=6)\n",
    "ax.set(xlabel='K', ylabel='Error Rate')\n",
    "ax.set_xticks(range(1, max_k, 2))"
   ]
  },
  {
   "cell_type": "code",
   "execution_count": 39,
   "metadata": {},
   "outputs": [],
   "source": [
    "# as seen from simulation, the best value for the k = 23\n",
    "# re run the simulation a k = 23 to get best value for statistics\n",
    "knn23 = KNeighborsClassifier(n_neighbors=23, weights='distance')\n",
    "knn23 = knn23.fit(x_bc_train_s, y_train)\n",
    "    \n",
    "y_pred_23nn = knn23.predict(x_bc_test_s)"
   ]
  },
  {
   "cell_type": "code",
   "execution_count": 40,
   "metadata": {},
   "outputs": [
    {
     "name": "stdout",
     "output_type": "stream",
     "text": [
      "              precision    recall  f1-score   support\n",
      "\n",
      "           1       0.40      0.34      0.37       186\n",
      "           2       0.35      0.31      0.33       233\n",
      "           3       0.31      0.28      0.29       243\n",
      "           4       0.53      0.67      0.59       280\n",
      "\n",
      "    accuracy                           0.42       942\n",
      "   macro avg       0.40      0.40      0.40       942\n",
      "weighted avg       0.40      0.42      0.41       942\n",
      "\n"
     ]
    }
   ],
   "source": [
    "# print the classification  for k = 23\n",
    "print(classification_report(y_test, y_pred_23nn))"
   ]
  },
  {
   "cell_type": "code",
   "execution_count": 41,
   "metadata": {},
   "outputs": [
    {
     "data": {
      "text/plain": [
       "<AxesSubplot:>"
      ]
     },
     "execution_count": 41,
     "metadata": {},
     "output_type": "execute_result"
    },
    {
     "data": {
      "image/png": "[encoded data removed]",
      "text/plain": [
       "<Figure size 864x432 with 2 Axes>"
      ]
     },
     "metadata": {},
     "output_type": "display_data"
    }
   ],
   "source": [
    "# compile and visually represent the confusion matrix\n",
    "cm_nn = confusion_matrix(y_test, y_pred_23nn)\n",
    "fig = plt.figure(figsize = (12, 6))\n",
    "sns.heatmap(cm_nn, annot=True, fmt='d', cmap='BrBG')"
   ]
  },
  {
   "cell_type": "markdown",
   "metadata": {},
   "source": [
    "Commentary: \n",
    "\n",
    "As seen, when compared to a Logistic Regression, the KNN estimate a little more accurately, especially at the lower salary grades (logistic regression's accuracy at the lower levels was essentially zero). Reasons for the difference between actuala nd predictions are the same for each model\n",
    "\n",
    "- the KNN model classifies based on classifications of the (in this case) 23 closest neighbors. It appears to do a much better job of sifting through noise at lower salary classes, a little worse for salary class 3 and about the same for the Star Players\n",
    "- it seems as if distance measureemnt/similarity looks like a better way of classifying on this data set. \n",
    "\n",
    "Next, we will attempt to classify via a SVM Hyperplane - both with a linear and kernel decision boundary"
   ]
  },
  {
   "cell_type": "markdown",
   "metadata": {},
   "source": [
    "#### Support Vector Machine Classification"
   ]
  },
  {
   "cell_type": "code",
   "execution_count": 42,
   "metadata": {},
   "outputs": [],
   "source": [
    "# linear svm classifier\n",
    "from sklearn.svm import LinearSVC\n",
    "\n",
    "# initialize model & train on entire data set:\n",
    "lsvc = LinearSVC(max_iter = 10000)\n",
    "lsvc = lsvc.fit(x_bc_train_s, y_train)\n",
    "y_pred_lsvc = lsvc.predict(x_bc_test_s)"
   ]
  },
  {
   "cell_type": "code",
   "execution_count": 43,
   "metadata": {},
   "outputs": [
    {
     "name": "stdout",
     "output_type": "stream",
     "text": [
      "              precision    recall  f1-score   support\n",
      "\n",
      "           1       0.37      0.38      0.37       186\n",
      "           2       0.32      0.21      0.25       233\n",
      "           3       0.33      0.19      0.24       243\n",
      "           4       0.46      0.76      0.58       280\n",
      "\n",
      "    accuracy                           0.40       942\n",
      "   macro avg       0.37      0.38      0.36       942\n",
      "weighted avg       0.37      0.40      0.37       942\n",
      "\n"
     ]
    }
   ],
   "source": [
    "# print classification report\n",
    "print(classification_report(y_test, y_pred_lsvc))"
   ]
  },
  {
   "cell_type": "code",
   "execution_count": 44,
   "metadata": {},
   "outputs": [
    {
     "data": {
      "text/plain": [
       "<AxesSubplot:>"
      ]
     },
     "execution_count": 44,
     "metadata": {},
     "output_type": "execute_result"
    },
    {
     "data": {
      "image/png": "[encoded data removed]",
      "text/plain": [
       "<Figure size 864x432 with 2 Axes>"
      ]
     },
     "metadata": {},
     "output_type": "display_data"
    }
   ],
   "source": [
    "# compile and plot confusion matric\n",
    "cm_lsvc = confusion_matrix(y_test, y_pred_lsvc)\n",
    "fig = plt.figure(figsize = (12, 6))\n",
    "sns.heatmap(cm_lsvc, annot=True, fmt='d', cmap='BrBG')"
   ]
  },
  {
   "cell_type": "code",
   "execution_count": 45,
   "metadata": {},
   "outputs": [],
   "source": [
    "# kernel SVM classifier. Will iterate over a range of C, gamma\n",
    "from sklearn.svm import SVC\n",
    "\n",
    "gammas = [0.5, 1, 2]\n",
    "cs = [0.1, 1, 10]\n",
    "\n",
    "f1scores = []\n",
    "errors = []\n",
    "\n",
    "for c in cs:\n",
    "    for gamma in gammas:\n",
    "        gaussian_svm = SVC(kernel = 'rbf', gamma = gamma, C = c)\n",
    "        gaussian_svm = gaussian_svm.fit(x_bc_train_s, y_train)\n",
    "        y_pred_gsvm = gaussian_svm.predict(x_bc_test_s)\n",
    "        \n",
    "        # error metrics\n",
    "        f1 = f1_score(y_pred_gsvm, y_test, average = 'weighted')\n",
    "        f1scores.append((gamma, c, round(f1, 4)))\n",
    "        error = 1-round(accuracy_score(y_test, y_pred_gsvm), 4)\n",
    "        errors.append((gamma, c, error))\n",
    "        \n",
    "svm_f1 = pd.DataFrame(f1scores, columns=['gamma','C', 'F1 Score'])\n",
    "svm_errors = pd.DataFrame(errors, columns = ['gamma', 'C', ' Error'])"
   ]
  },
  {
   "cell_type": "code",
   "execution_count": 46,
   "metadata": {},
   "outputs": [
    {
     "data": {
      "text/html": [
       "<div>\n",
       "<style scoped>\n",
       "    .dataframe tbody tr th:only-of-type {\n",
       "        vertical-align: middle;\n",
       "    }\n",
       "\n",
       "    .dataframe tbody tr th {\n",
       "        vertical-align: top;\n",
       "    }\n",
       "\n",
       "    .dataframe thead th {\n",
       "        text-align: right;\n",
       "    }\n",
       "</style>\n",
       "<table border=\"1\" class=\"dataframe\">\n",
       "  <thead>\n",
       "    <tr style=\"text-align: right;\">\n",
       "      <th></th>\n",
       "      <th>gamma</th>\n",
       "      <th>C</th>\n",
       "      <th>Error</th>\n",
       "    </tr>\n",
       "  </thead>\n",
       "  <tbody>\n",
       "    <tr>\n",
       "      <th>0</th>\n",
       "      <td>0.5</td>\n",
       "      <td>0.1</td>\n",
       "      <td>0.6868</td>\n",
       "    </tr>\n",
       "    <tr>\n",
       "      <th>1</th>\n",
       "      <td>1.0</td>\n",
       "      <td>0.1</td>\n",
       "      <td>0.7028</td>\n",
       "    </tr>\n",
       "    <tr>\n",
       "      <th>2</th>\n",
       "      <td>2.0</td>\n",
       "      <td>0.1</td>\n",
       "      <td>0.7028</td>\n",
       "    </tr>\n",
       "    <tr>\n",
       "      <th>3</th>\n",
       "      <td>0.5</td>\n",
       "      <td>1.0</td>\n",
       "      <td>0.5786</td>\n",
       "    </tr>\n",
       "    <tr>\n",
       "      <th>4</th>\n",
       "      <td>1.0</td>\n",
       "      <td>1.0</td>\n",
       "      <td>0.5924</td>\n",
       "    </tr>\n",
       "    <tr>\n",
       "      <th>5</th>\n",
       "      <td>2.0</td>\n",
       "      <td>1.0</td>\n",
       "      <td>0.6369</td>\n",
       "    </tr>\n",
       "    <tr>\n",
       "      <th>6</th>\n",
       "      <td>0.5</td>\n",
       "      <td>10.0</td>\n",
       "      <td>0.6338</td>\n",
       "    </tr>\n",
       "    <tr>\n",
       "      <th>7</th>\n",
       "      <td>1.0</td>\n",
       "      <td>10.0</td>\n",
       "      <td>0.6040</td>\n",
       "    </tr>\n",
       "    <tr>\n",
       "      <th>8</th>\n",
       "      <td>2.0</td>\n",
       "      <td>10.0</td>\n",
       "      <td>0.6316</td>\n",
       "    </tr>\n",
       "  </tbody>\n",
       "</table>\n",
       "</div>"
      ],
      "text/plain": [
       "   gamma     C   Error\n",
       "0    0.5   0.1  0.6868\n",
       "1    1.0   0.1  0.7028\n",
       "2    2.0   0.1  0.7028\n",
       "3    0.5   1.0  0.5786\n",
       "4    1.0   1.0  0.5924\n",
       "5    2.0   1.0  0.6369\n",
       "6    0.5  10.0  0.6338\n",
       "7    1.0  10.0  0.6040\n",
       "8    2.0  10.0  0.6316"
      ]
     },
     "execution_count": 46,
     "metadata": {},
     "output_type": "execute_result"
    }
   ],
   "source": [
    "# review svm_errors dataframe to get the best combination of gamma, C \n",
    "# appears to be the value of gamma = 0.5, C = 1.0\n",
    "svm_errors"
   ]
  },
  {
   "cell_type": "code",
   "execution_count": 47,
   "metadata": {},
   "outputs": [
    {
     "name": "stdout",
     "output_type": "stream",
     "text": [
      "F1:  0.42863935399910336\n",
      "Error:  0.5786\n"
     ]
    }
   ],
   "source": [
    "# will re-run SVM Kernel at gamma = 0.5, C = 10 to determine classification accuracy\n",
    "final_gaussian_svm = SVC(kernel = 'rbf', gamma = 0.5, C = 1.0)\n",
    "final_gaussian_svm = final_gaussian_svm.fit(x_bc_train_s, y_train)\n",
    "y_pred_final_gsvm = final_gaussian_svm.predict(x_bc_test_s)\n",
    "\n",
    " # error metrics\n",
    "f1 = f1_score(y_pred_final_gsvm, y_test, average = 'weighted')\n",
    "error = 1-round(accuracy_score(y_test, y_pred_final_gsvm), 4)\n",
    "print('F1: ', f1)\n",
    "print('Error: ', error)"
   ]
  },
  {
   "cell_type": "code",
   "execution_count": 48,
   "metadata": {},
   "outputs": [
    {
     "name": "stdout",
     "output_type": "stream",
     "text": [
      "              precision    recall  f1-score   support\n",
      "\n",
      "           1       0.44      0.29      0.35       186\n",
      "           2       0.33      0.33      0.33       233\n",
      "           3       0.32      0.34      0.33       243\n",
      "           4       0.55      0.66      0.60       280\n",
      "\n",
      "    accuracy                           0.42       942\n",
      "   macro avg       0.41      0.40      0.40       942\n",
      "weighted avg       0.42      0.42      0.41       942\n",
      "\n"
     ]
    }
   ],
   "source": [
    "# print contents of classification report\n",
    "print(classification_report(y_test, y_pred_final_gsvm))"
   ]
  },
  {
   "cell_type": "code",
   "execution_count": 49,
   "metadata": {},
   "outputs": [
    {
     "data": {
      "text/plain": [
       "<AxesSubplot:>"
      ]
     },
     "execution_count": 49,
     "metadata": {},
     "output_type": "execute_result"
    },
    {
     "data": {
      "image/png": "[encoded data removed]",
      "text/plain": [
       "<Figure size 864x432 with 2 Axes>"
      ]
     },
     "metadata": {},
     "output_type": "display_data"
    }
   ],
   "source": [
    "# compile and plot confusion matric\n",
    "cm_gsvc = confusion_matrix(y_test, y_pred_final_gsvm)\n",
    "fig = plt.figure(figsize = (12, 6))\n",
    "sns.heatmap(cm_gsvc, annot=True, fmt='d', cmap='BrBG')"
   ]
  },
  {
   "cell_type": "markdown",
   "metadata": {},
   "source": [
    "Commentary:\n",
    "\n",
    "THe Gaussian SVC is a littl more accurate than the linear SVC. Overall, when comparing to the previous KNN model (k = 23), the overall accuracy measures do not change. However, the SVM is a little more accurate on Class 3 and 4, while KNN is a little more accurate on Class 1 and 2\n",
    "\n",
    "Finally, we will attempt to classify via a Decision Tree, using the Bootstrapped Random Forest Model"
   ]
  },
  {
   "cell_type": "code",
   "execution_count": 50,
   "metadata": {},
   "outputs": [
    {
     "name": "stdout",
     "output_type": "stream",
     "text": [
      "Classification Report - KNN (k = 23)\n",
      "              precision    recall  f1-score   support\n",
      "\n",
      "           1       0.40      0.34      0.37       186\n",
      "           2       0.35      0.31      0.33       233\n",
      "           3       0.31      0.28      0.29       243\n",
      "           4       0.53      0.67      0.59       280\n",
      "\n",
      "    accuracy                           0.42       942\n",
      "   macro avg       0.40      0.40      0.40       942\n",
      "weighted avg       0.40      0.42      0.41       942\n",
      "\n",
      "-------------------------------------------------\n",
      "Classification Report - Gaussian SVM (gamma = 0.5, C = 1.0)\n",
      "              precision    recall  f1-score   support\n",
      "\n",
      "           1       0.44      0.29      0.35       186\n",
      "           2       0.33      0.33      0.33       233\n",
      "           3       0.32      0.34      0.33       243\n",
      "           4       0.55      0.66      0.60       280\n",
      "\n",
      "    accuracy                           0.42       942\n",
      "   macro avg       0.41      0.40      0.40       942\n",
      "weighted avg       0.42      0.42      0.41       942\n",
      "\n",
      "-------------------------------------------------\n",
      "Classification Report - Linear SVM\n",
      "              precision    recall  f1-score   support\n",
      "\n",
      "           1       0.37      0.38      0.37       186\n",
      "           2       0.32      0.21      0.25       233\n",
      "           3       0.33      0.19      0.24       243\n",
      "           4       0.46      0.76      0.58       280\n",
      "\n",
      "    accuracy                           0.40       942\n",
      "   macro avg       0.37      0.38      0.36       942\n",
      "weighted avg       0.37      0.40      0.37       942\n",
      "\n"
     ]
    }
   ],
   "source": [
    "print('Classification Report - KNN (k = 23)')\n",
    "print(classification_report(y_test, y_pred_23nn))\n",
    "print('-------------------------------------------------')\n",
    "print('Classification Report - Gaussian SVM (gamma = 0.5, C = 1.0)')\n",
    "print(classification_report(y_test, y_pred_final_gsvm))\n",
    "print('-------------------------------------------------')\n",
    "print('Classification Report - Linear SVM')\n",
    "print(classification_report(y_test, y_pred_lsvc))"
   ]
  },
  {
   "cell_type": "markdown",
   "metadata": {},
   "source": [
    "#### Decision Tree / Random Forest Model"
   ]
  },
  {
   "cell_type": "code",
   "execution_count": 51,
   "metadata": {},
   "outputs": [
    {
     "data": {
      "text/html": [
       "<div>\n",
       "<style scoped>\n",
       "    .dataframe tbody tr th:only-of-type {\n",
       "        vertical-align: middle;\n",
       "    }\n",
       "\n",
       "    .dataframe tbody tr th {\n",
       "        vertical-align: top;\n",
       "    }\n",
       "\n",
       "    .dataframe thead th {\n",
       "        text-align: right;\n",
       "    }\n",
       "</style>\n",
       "<table border=\"1\" class=\"dataframe\">\n",
       "  <thead>\n",
       "    <tr style=\"text-align: right;\">\n",
       "      <th></th>\n",
       "      <th>oob</th>\n",
       "    </tr>\n",
       "    <tr>\n",
       "      <th>n_trees</th>\n",
       "      <th></th>\n",
       "    </tr>\n",
       "  </thead>\n",
       "  <tbody>\n",
       "    <tr>\n",
       "      <th>50.0</th>\n",
       "      <td>0.622779</td>\n",
       "    </tr>\n",
       "    <tr>\n",
       "      <th>100.0</th>\n",
       "      <td>0.604100</td>\n",
       "    </tr>\n",
       "    <tr>\n",
       "      <th>150.0</th>\n",
       "      <td>0.601367</td>\n",
       "    </tr>\n",
       "    <tr>\n",
       "      <th>200.0</th>\n",
       "      <td>0.593622</td>\n",
       "    </tr>\n",
       "    <tr>\n",
       "      <th>250.0</th>\n",
       "      <td>0.589066</td>\n",
       "    </tr>\n",
       "    <tr>\n",
       "      <th>300.0</th>\n",
       "      <td>0.586788</td>\n",
       "    </tr>\n",
       "    <tr>\n",
       "      <th>350.0</th>\n",
       "      <td>0.590433</td>\n",
       "    </tr>\n",
       "    <tr>\n",
       "      <th>400.0</th>\n",
       "      <td>0.588610</td>\n",
       "    </tr>\n",
       "    <tr>\n",
       "      <th>450.0</th>\n",
       "      <td>0.584966</td>\n",
       "    </tr>\n",
       "    <tr>\n",
       "      <th>500.0</th>\n",
       "      <td>0.581321</td>\n",
       "    </tr>\n",
       "    <tr>\n",
       "      <th>550.0</th>\n",
       "      <td>0.582232</td>\n",
       "    </tr>\n",
       "    <tr>\n",
       "      <th>600.0</th>\n",
       "      <td>0.583599</td>\n",
       "    </tr>\n",
       "    <tr>\n",
       "      <th>650.0</th>\n",
       "      <td>0.581321</td>\n",
       "    </tr>\n",
       "    <tr>\n",
       "      <th>700.0</th>\n",
       "      <td>0.586333</td>\n",
       "    </tr>\n",
       "    <tr>\n",
       "      <th>750.0</th>\n",
       "      <td>0.589066</td>\n",
       "    </tr>\n",
       "    <tr>\n",
       "      <th>800.0</th>\n",
       "      <td>0.587244</td>\n",
       "    </tr>\n",
       "    <tr>\n",
       "      <th>850.0</th>\n",
       "      <td>0.587699</td>\n",
       "    </tr>\n",
       "    <tr>\n",
       "      <th>900.0</th>\n",
       "      <td>0.587244</td>\n",
       "    </tr>\n",
       "    <tr>\n",
       "      <th>950.0</th>\n",
       "      <td>0.584966</td>\n",
       "    </tr>\n",
       "    <tr>\n",
       "      <th>1000.0</th>\n",
       "      <td>0.588155</td>\n",
       "    </tr>\n",
       "  </tbody>\n",
       "</table>\n",
       "</div>"
      ],
      "text/plain": [
       "              oob\n",
       "n_trees          \n",
       "50.0     0.622779\n",
       "100.0    0.604100\n",
       "150.0    0.601367\n",
       "200.0    0.593622\n",
       "250.0    0.589066\n",
       "300.0    0.586788\n",
       "350.0    0.590433\n",
       "400.0    0.588610\n",
       "450.0    0.584966\n",
       "500.0    0.581321\n",
       "550.0    0.582232\n",
       "600.0    0.583599\n",
       "650.0    0.581321\n",
       "700.0    0.586333\n",
       "750.0    0.589066\n",
       "800.0    0.587244\n",
       "850.0    0.587699\n",
       "900.0    0.587244\n",
       "950.0    0.584966\n",
       "1000.0   0.588155"
      ]
     },
     "execution_count": 51,
     "metadata": {},
     "output_type": "execute_result"
    }
   ],
   "source": [
    "from sklearn.ensemble import RandomForestClassifier\n",
    "\n",
    "# Initialize the random forest estimator\n",
    "# Note that the number of trees is not setup here\n",
    "RF = RandomForestClassifier(oob_score=True, random_state=42, warm_start=True, n_jobs=-1)\n",
    "\n",
    "oob_list = list()\n",
    "\n",
    "# Iterate through all of the possibilities for number of trees\n",
    "for n_trees in range(50, 1050, 50):\n",
    "    \n",
    "    # Use this to set the number of trees\n",
    "    RF.set_params(n_estimators=n_trees)\n",
    "\n",
    "    # Fit the model\n",
    "    RF.fit(x_bc_train_s, y_train)\n",
    "\n",
    "    # Get the oob error\n",
    "    oob_error = 1 - RF.oob_score_\n",
    "    \n",
    "    # Store it\n",
    "    oob_list.append(pd.Series({'n_trees': n_trees, 'oob': oob_error}))\n",
    "\n",
    "rf_oob_df = pd.concat(oob_list, axis=1).T.set_index('n_trees')\n",
    "\n",
    "rf_oob_df"
   ]
  },
  {
   "cell_type": "code",
   "execution_count": 52,
   "metadata": {},
   "outputs": [
    {
     "data": {
      "image/png": "[encoded data removed]",
      "text/plain": [
       "<Figure size 1008x504 with 1 Axes>"
      ]
     },
     "metadata": {},
     "output_type": "display_data"
    }
   ],
   "source": [
    "# from the simulation, it appears than ~500 trees is the optimal number\n",
    "sns.set_context('talk')\n",
    "sns.set_style('white')\n",
    "\n",
    "ax = rf_oob_df.plot(legend=False, marker='o', figsize=(14, 7), linewidth=5)\n",
    "ax.set(ylabel='out-of-bag error');"
   ]
  },
  {
   "cell_type": "code",
   "execution_count": 53,
   "metadata": {},
   "outputs": [],
   "source": [
    "# re-run model with n_trees = 500\n",
    "# Random forest with 100 estimators\n",
    "model = RF.set_params(n_estimators=100)\n",
    "\n",
    "# get the predicted values\n",
    "y_pred_rf = model.predict(x_bc_test_s)"
   ]
  },
  {
   "cell_type": "code",
   "execution_count": 54,
   "metadata": {},
   "outputs": [
    {
     "name": "stdout",
     "output_type": "stream",
     "text": [
      "              precision    recall  f1-score   support\n",
      "\n",
      "           1       0.39      0.31      0.34       186\n",
      "           2       0.30      0.29      0.29       233\n",
      "           3       0.33      0.28      0.30       243\n",
      "           4       0.52      0.67      0.59       280\n",
      "\n",
      "    accuracy                           0.40       942\n",
      "   macro avg       0.39      0.39      0.38       942\n",
      "weighted avg       0.39      0.40      0.39       942\n",
      "\n"
     ]
    }
   ],
   "source": [
    "# print contents of the classification report\n",
    "print(classification_report(y_test, y_pred_rf))"
   ]
  },
  {
   "cell_type": "code",
   "execution_count": 55,
   "metadata": {},
   "outputs": [
    {
     "data": {
      "text/plain": [
       "<AxesSubplot:>"
      ]
     },
     "execution_count": 55,
     "metadata": {},
     "output_type": "execute_result"
    },
    {
     "data": {
      "image/png": "[encoded data removed]",
      "text/plain": [
       "<Figure size 864x432 with 2 Axes>"
      ]
     },
     "metadata": {},
     "output_type": "display_data"
    }
   ],
   "source": [
    "# compute and plot the confusion matrix\n",
    "cm_rf = confusion_matrix(y_test, y_pred_rf)\n",
    "fig = plt.figure(figsize = (12, 6))\n",
    "sns.heatmap(cm_rf, annot=True, fmt='d', cmap='BrBG')"
   ]
  },
  {
   "cell_type": "code",
   "execution_count": 56,
   "metadata": {},
   "outputs": [
    {
     "name": "stdout",
     "output_type": "stream",
     "text": [
      "Classification Report - Logistic Regression\n",
      "              precision    recall  f1-score   support\n",
      "\n",
      "           1       0.36      0.05      0.09       186\n",
      "           2       0.00      0.00      0.00       233\n",
      "           3       0.28      0.83      0.42       243\n",
      "           4       0.60      0.45      0.52       280\n",
      "\n",
      "    accuracy                           0.36       942\n",
      "   macro avg       0.31      0.33      0.26       942\n",
      "weighted avg       0.32      0.36      0.28       942\n",
      "\n",
      "-------------------------------------------------\n",
      "Classification Report - KNN (k = 23)\n",
      "              precision    recall  f1-score   support\n",
      "\n",
      "           1       0.40      0.34      0.37       186\n",
      "           2       0.35      0.31      0.33       233\n",
      "           3       0.31      0.28      0.29       243\n",
      "           4       0.53      0.67      0.59       280\n",
      "\n",
      "    accuracy                           0.42       942\n",
      "   macro avg       0.40      0.40      0.40       942\n",
      "weighted avg       0.40      0.42      0.41       942\n",
      "\n",
      "-------------------------------------------------\n",
      "Classification Report - Gaussian SVM (gamma = 0.5, C = 1.0)\n",
      "              precision    recall  f1-score   support\n",
      "\n",
      "           1       0.44      0.29      0.35       186\n",
      "           2       0.33      0.33      0.33       233\n",
      "           3       0.32      0.34      0.33       243\n",
      "           4       0.55      0.66      0.60       280\n",
      "\n",
      "    accuracy                           0.42       942\n",
      "   macro avg       0.41      0.40      0.40       942\n",
      "weighted avg       0.42      0.42      0.41       942\n",
      "\n",
      "-------------------------------------------------\n",
      "Classification Report - Random Forest (n_trees = 500)\n",
      "              precision    recall  f1-score   support\n",
      "\n",
      "           1       0.39      0.31      0.34       186\n",
      "           2       0.30      0.29      0.29       233\n",
      "           3       0.33      0.28      0.30       243\n",
      "           4       0.52      0.67      0.59       280\n",
      "\n",
      "    accuracy                           0.40       942\n",
      "   macro avg       0.39      0.39      0.38       942\n",
      "weighted avg       0.39      0.40      0.39       942\n",
      "\n"
     ]
    },
    {
     "name": "stderr",
     "output_type": "stream",
     "text": [
      "C:\\Users\\iaustin\\AppData\\Local\\Continuum\\anaconda3\\lib\\site-packages\\sklearn\\metrics\\_classification.py:1248: UndefinedMetricWarning: Precision and F-score are ill-defined and being set to 0.0 in labels with no predicted samples. Use `zero_division` parameter to control this behavior.\n",
      "  _warn_prf(average, modifier, msg_start, len(result))\n",
      "C:\\Users\\iaustin\\AppData\\Local\\Continuum\\anaconda3\\lib\\site-packages\\sklearn\\metrics\\_classification.py:1248: UndefinedMetricWarning: Precision and F-score are ill-defined and being set to 0.0 in labels with no predicted samples. Use `zero_division` parameter to control this behavior.\n",
      "  _warn_prf(average, modifier, msg_start, len(result))\n",
      "C:\\Users\\iaustin\\AppData\\Local\\Continuum\\anaconda3\\lib\\site-packages\\sklearn\\metrics\\_classification.py:1248: UndefinedMetricWarning: Precision and F-score are ill-defined and being set to 0.0 in labels with no predicted samples. Use `zero_division` parameter to control this behavior.\n",
      "  _warn_prf(average, modifier, msg_start, len(result))\n"
     ]
    }
   ],
   "source": [
    "# Summarizing all of the classification Reports\n",
    "print('Classification Report - Logistic Regression')\n",
    "print(classification_report(y_test, y_pred))\n",
    "print('-------------------------------------------------')\n",
    "print('Classification Report - KNN (k = 23)')\n",
    "print(classification_report(y_test, y_pred_23nn))\n",
    "print('-------------------------------------------------')\n",
    "print('Classification Report - Gaussian SVM (gamma = 0.5, C = 1.0)')\n",
    "print(classification_report(y_test, y_pred_final_gsvm))\n",
    "print('-------------------------------------------------')\n",
    "print('Classification Report - Random Forest (n_trees = 500)')\n",
    "print(classification_report(y_test, y_pred_rf))"
   ]
  },
  {
   "cell_type": "markdown",
   "metadata": {},
   "source": [
    "Commentary:\n",
    "\n",
    "The use of a Random forest classification algorithm did not provide any performance improvement over the KNN or Gaussian SVM. Reasons for the relatively poor performance are as per the previous comments. \n",
    "\n",
    "In general, a ranking of the most effective algorithms to predcit salary class based on Hollinger's Advanced NBA Stats are:\n",
    "\n",
    "1. Gaussian SVM / KNN \n",
    "2. Random Forest\n",
    "3. Logistic Regression\n",
    "\n",
    "Based on the dataset, it seems that similarity/distance measures are more effective in classifying on this data set than modified linear probability (Logistic Regression) or information theory based (Random Forest) systems. It should be noted, for reason previously discussed, that neither does a great job of classifying on the data"
   ]
  },
  {
   "cell_type": "code",
   "execution_count": null,
   "metadata": {},
   "outputs": [],
   "source": []
  }
 ],
 "metadata": {
  "kernelspec": {
   "display_name": "Python 3",
   "language": "python",
   "name": "python3"
  },
  "language_info": {
   "codemirror_mode": {
    "name": "ipython",
    "version": 3
   },
   "file_extension": ".py",
   "mimetype": "text/x-python",
   "name": "python",
   "nbconvert_exporter": "python",
   "pygments_lexer": "ipython3",
   "version": "3.7.4"
  }
 },
 "nbformat": 4,
 "nbformat_minor": 4
}
