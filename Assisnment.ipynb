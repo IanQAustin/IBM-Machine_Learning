{
 "cells": [
  {
   "cell_type": "markdown",
   "metadata": {},
   "source": [
    "## Exploratory Analysis for Machine Learning - Course Project"
   ]
  },
  {
   "cell_type": "markdown",
   "metadata": {},
   "source": [
    "The course project will review John Hollinger's NBA Advanced Statistics, namely Player Efficiency Rating (PER)\n",
    "\n",
    "PER is considered an advanced statistic that takes into account all of a players positive/negative contributions to a game and returns them in a single, weighted measure"
   ]
  },
  {
   "cell_type": "markdown",
   "metadata": {},
   "source": [
    "****Data dictionary****:\n",
    "\n",
    "Each observation represents an individual player's Hollinger stats for that season. Columns and their appropriate definition follows as detailed by ESPN.com are as follows:\n",
    "\n",
    "rank that player's PER rank for that given season\n",
    "\n",
    "ts% True Shooting Percentage - what a player's shooting percentage would be if we accounted for free throws and 3-pointers. True Shooting Percentage = Total points / [(FGA + (0.44 x FTA)]\n",
    "\n",
    "ast Assist Ratio - the percentage of a player's possessions that ends in an assist. Assist Ratio = (Assists x 100) divided by [(FGA + (FTA x 0.44) + Assists + Turnovers]\n",
    "\n",
    "to Turnover Ratio - the percentage of a player's possessions that end in a turnover. Turnover Ratio = (Turnover x 100) divided by [(FGA + (FTA x 0.44) + Assists + Turnovers]\n",
    "\n",
    "usg Usage Rate - the number of possessions a player uses per 40 minutes. Usage Rate = {[FGA + (FT Att. x 0.44) + (Ast x 0.33) + TO] x 40 x League Pace} divided by (Minutes x Team Pace)\n",
    "\n",
    "orr Offensive rebound rate\n",
    "\n",
    "drr Defensive rebound rate\n",
    "\n",
    "rebr Rebound Rate - the percentage of missed shots that a player rebounds. Rebound Rate = (100 x (Rebounds x Team Minutes)) divided by [Player Minutes x (Team Rebounds + Opponent Rebounds)]\n",
    "\n",
    "per Player Efficiency Rating is the overall rating of a player's per-minute statistical production. The league average is 15.00 every season.\n",
    "\n",
    "va Value Added - the estimated number of points a player adds to a teamâ€™s season total above what a 'replacement player' (for instance, the 12th man on the roster) would produce. Value Added = ([Minutes * (PER - PRL)] / 67). PRL (Position Replacement Level) = 11.5 for power forwards, 11.0 for point guards, 10.6 for centers, 10.5 for shooting guards and small forwards\n",
    "\n",
    "ewa Estimated Wins Added - Value Added divided by 30, giving the estimated number of wins a player adds to a team's season total above what a 'replacement player' would produce.\n",
    "\n",
    "per ER - sums up all a player's positive accomplishments, subtracts the negative accomplishments, and returns a per-minute rating of a player's performance\n",
    "\n",
    "season that observation's season\n",
    "\n",
    "player player name\n",
    "\n",
    "team that player's team abbreviation for which they play"
   ]
  },
  {
   "cell_type": "markdown",
   "metadata": {},
   "source": [
    "### Explorartory Data Analysis"
   ]
  },
  {
   "cell_type": "markdown",
   "metadata": {},
   "source": [
    "Initial Plan:\n",
    " \n",
    "- download data from Kaggle datasets \n",
    "- impoer/read data and clean\n",
    "- want to explore the relationship between usage rate and per on an aggregate, then a more 'zoomed in' basis\n",
    "- want to show a general trend of players efficiency rising as their usage rises (better players being used more)\n",
    "- want to evaluate for a star players career, to see if they 'age in' to being kore efficient with increased usage"
   ]
  },
  {
   "cell_type": "markdown",
   "metadata": {},
   "source": [
    "#### Data Loading & Cleaning"
   ]
  },
  {
   "cell_type": "code",
   "execution_count": 1,
   "metadata": {},
   "outputs": [],
   "source": [
    "import numpy as np\n",
    "import pandas as pd\n",
    "import matplotlib.pyplot as plt\n",
    "import mpl_toolkits as mp\n",
    "import mpl_toolkits\n",
    "import seaborn as sns\n",
    "sns.set()"
   ]
  },
  {
   "cell_type": "code",
   "execution_count": 2,
   "metadata": {},
   "outputs": [
    {
     "data": {
      "text/html": [
       "<div>\n",
       "<style scoped>\n",
       "    .dataframe tbody tr th:only-of-type {\n",
       "        vertical-align: middle;\n",
       "    }\n",
       "\n",
       "    .dataframe tbody tr th {\n",
       "        vertical-align: top;\n",
       "    }\n",
       "\n",
       "    .dataframe thead th {\n",
       "        text-align: right;\n",
       "    }\n",
       "</style>\n",
       "<table border=\"1\" class=\"dataframe\">\n",
       "  <thead>\n",
       "    <tr style=\"text-align: right;\">\n",
       "      <th></th>\n",
       "      <th>Unnamed: 0</th>\n",
       "      <th>rank</th>\n",
       "      <th>gp</th>\n",
       "      <th>mpg</th>\n",
       "      <th>ts%</th>\n",
       "      <th>ast</th>\n",
       "      <th>to</th>\n",
       "      <th>usg</th>\n",
       "      <th>orr</th>\n",
       "      <th>drr</th>\n",
       "      <th>rebr</th>\n",
       "      <th>per</th>\n",
       "      <th>va</th>\n",
       "      <th>ewa</th>\n",
       "      <th>player</th>\n",
       "      <th>team</th>\n",
       "      <th>season</th>\n",
       "    </tr>\n",
       "  </thead>\n",
       "  <tbody>\n",
       "    <tr>\n",
       "      <td>0</td>\n",
       "      <td>1</td>\n",
       "      <td>1</td>\n",
       "      <td>75</td>\n",
       "      <td>39.4</td>\n",
       "      <td>0.564</td>\n",
       "      <td>15.0</td>\n",
       "      <td>7.1</td>\n",
       "      <td>32.6</td>\n",
       "      <td>5.0</td>\n",
       "      <td>14.6</td>\n",
       "      <td>9.5</td>\n",
       "      <td>31.01</td>\n",
       "      <td>452.0</td>\n",
       "      <td>15.1</td>\n",
       "      <td>Tracy McGrady</td>\n",
       "      <td>ORL</td>\n",
       "      <td>2002-03</td>\n",
       "    </tr>\n",
       "    <tr>\n",
       "      <td>1</td>\n",
       "      <td>2</td>\n",
       "      <td>2</td>\n",
       "      <td>67</td>\n",
       "      <td>37.8</td>\n",
       "      <td>0.602</td>\n",
       "      <td>10.7</td>\n",
       "      <td>10.1</td>\n",
       "      <td>27.8</td>\n",
       "      <td>11.0</td>\n",
       "      <td>21.6</td>\n",
       "      <td>16.5</td>\n",
       "      <td>29.43</td>\n",
       "      <td>356.2</td>\n",
       "      <td>11.9</td>\n",
       "      <td>Shaquille O'Neal</td>\n",
       "      <td>LAL</td>\n",
       "      <td>2002-03</td>\n",
       "    </tr>\n",
       "    <tr>\n",
       "      <td>2</td>\n",
       "      <td>3</td>\n",
       "      <td>3</td>\n",
       "      <td>82</td>\n",
       "      <td>41.5</td>\n",
       "      <td>0.550</td>\n",
       "      <td>16.0</td>\n",
       "      <td>9.6</td>\n",
       "      <td>31.1</td>\n",
       "      <td>3.0</td>\n",
       "      <td>15.3</td>\n",
       "      <td>9.3</td>\n",
       "      <td>27.07</td>\n",
       "      <td>420.6</td>\n",
       "      <td>14.0</td>\n",
       "      <td>Kobe Bryant</td>\n",
       "      <td>LAL</td>\n",
       "      <td>2002-03</td>\n",
       "    </tr>\n",
       "    <tr>\n",
       "      <td>3</td>\n",
       "      <td>4</td>\n",
       "      <td>4</td>\n",
       "      <td>82</td>\n",
       "      <td>40.5</td>\n",
       "      <td>0.553</td>\n",
       "      <td>20.4</td>\n",
       "      <td>9.4</td>\n",
       "      <td>25.0</td>\n",
       "      <td>9.0</td>\n",
       "      <td>28.5</td>\n",
       "      <td>18.8</td>\n",
       "      <td>26.46</td>\n",
       "      <td>370.8</td>\n",
       "      <td>12.4</td>\n",
       "      <td>Kevin Garnett</td>\n",
       "      <td>MIN</td>\n",
       "      <td>2002-03</td>\n",
       "    </tr>\n",
       "    <tr>\n",
       "      <td>4</td>\n",
       "      <td>5</td>\n",
       "      <td>5</td>\n",
       "      <td>81</td>\n",
       "      <td>39.3</td>\n",
       "      <td>0.564</td>\n",
       "      <td>14.1</td>\n",
       "      <td>11.1</td>\n",
       "      <td>25.7</td>\n",
       "      <td>10.0</td>\n",
       "      <td>27.3</td>\n",
       "      <td>19.0</td>\n",
       "      <td>26.46</td>\n",
       "      <td>355.0</td>\n",
       "      <td>11.8</td>\n",
       "      <td>Tim Duncan</td>\n",
       "      <td>SA</td>\n",
       "      <td>2002-03</td>\n",
       "    </tr>\n",
       "  </tbody>\n",
       "</table>\n",
       "</div>"
      ],
      "text/plain": [
       "   Unnamed: 0  rank  gp   mpg    ts%   ast    to   usg   orr   drr  rebr  \\\n",
       "0           1     1  75  39.4  0.564  15.0   7.1  32.6   5.0  14.6   9.5   \n",
       "1           2     2  67  37.8  0.602  10.7  10.1  27.8  11.0  21.6  16.5   \n",
       "2           3     3  82  41.5  0.550  16.0   9.6  31.1   3.0  15.3   9.3   \n",
       "3           4     4  82  40.5  0.553  20.4   9.4  25.0   9.0  28.5  18.8   \n",
       "4           5     5  81  39.3  0.564  14.1  11.1  25.7  10.0  27.3  19.0   \n",
       "\n",
       "     per     va   ewa            player  team   season  \n",
       "0  31.01  452.0  15.1     Tracy McGrady   ORL  2002-03  \n",
       "1  29.43  356.2  11.9  Shaquille O'Neal   LAL  2002-03  \n",
       "2  27.07  420.6  14.0       Kobe Bryant   LAL  2002-03  \n",
       "3  26.46  370.8  12.4     Kevin Garnett   MIN  2002-03  \n",
       "4  26.46  355.0  11.8        Tim Duncan    SA  2002-03  "
      ]
     },
     "execution_count": 2,
     "metadata": {},
     "output_type": "execute_result"
    }
   ],
   "source": [
    "# read in the data:\n",
    "# data downloaded and saved as a csv from Kaggle datasets\n",
    "data = pd.read_csv('hollingersStats.csv')\n",
    "data.head()"
   ]
  },
  {
   "cell_type": "code",
   "execution_count": 3,
   "metadata": {},
   "outputs": [
    {
     "name": "stdout",
     "output_type": "stream",
     "text": [
      "Number of Rows: 5404\n",
      "Number of Columns 17\n",
      "<class 'pandas.core.frame.DataFrame'>\n",
      "RangeIndex: 5404 entries, 0 to 5403\n",
      "Data columns (total 17 columns):\n",
      "Unnamed: 0    5404 non-null int64\n",
      "rank          5404 non-null int64\n",
      "gp            5404 non-null int64\n",
      "mpg           5404 non-null float64\n",
      "ts%           5404 non-null float64\n",
      "ast           5404 non-null float64\n",
      "to            5404 non-null float64\n",
      "usg           5404 non-null float64\n",
      "orr           5404 non-null float64\n",
      "drr           5404 non-null float64\n",
      "rebr          5404 non-null float64\n",
      "per           5404 non-null float64\n",
      "va            5404 non-null float64\n",
      "ewa           5404 non-null float64\n",
      "player        5404 non-null object\n",
      "team          5404 non-null object\n",
      "season        5404 non-null object\n",
      "dtypes: float64(11), int64(3), object(3)\n",
      "memory usage: 717.8+ KB\n"
     ]
    }
   ],
   "source": [
    "# get the shape of the data and data types\n",
    "print('Number of Rows:' , data.shape[0])\n",
    "print('Number of Columns', data.shape[1])\n",
    "data.info()"
   ]
  },
  {
   "cell_type": "markdown",
   "metadata": {},
   "source": [
    "Note that for all entries (5404 rows/records) there are non-null values"
   ]
  },
  {
   "cell_type": "code",
   "execution_count": 4,
   "metadata": {},
   "outputs": [
    {
     "name": "stdout",
     "output_type": "stream",
     "text": [
      "16 seasons\n"
     ]
    }
   ],
   "source": [
    "# get the unique seasons the dataset covers\n",
    "print(len(data['season'].unique().tolist()), 'seasons')"
   ]
  },
  {
   "cell_type": "code",
   "execution_count": 5,
   "metadata": {},
   "outputs": [
    {
     "name": "stdout",
     "output_type": "stream",
     "text": [
      "Number of Rows: 5404\n",
      "Number of Columns 4\n"
     ]
    },
    {
     "data": {
      "text/html": [
       "<div>\n",
       "<style scoped>\n",
       "    .dataframe tbody tr th:only-of-type {\n",
       "        vertical-align: middle;\n",
       "    }\n",
       "\n",
       "    .dataframe tbody tr th {\n",
       "        vertical-align: top;\n",
       "    }\n",
       "\n",
       "    .dataframe thead th {\n",
       "        text-align: right;\n",
       "    }\n",
       "</style>\n",
       "<table border=\"1\" class=\"dataframe\">\n",
       "  <thead>\n",
       "    <tr style=\"text-align: right;\">\n",
       "      <th></th>\n",
       "      <th>season</th>\n",
       "      <th>player</th>\n",
       "      <th>usg</th>\n",
       "      <th>per</th>\n",
       "    </tr>\n",
       "  </thead>\n",
       "  <tbody>\n",
       "    <tr>\n",
       "      <td>0</td>\n",
       "      <td>2002-03</td>\n",
       "      <td>Tracy McGrady</td>\n",
       "      <td>32.6</td>\n",
       "      <td>31.01</td>\n",
       "    </tr>\n",
       "    <tr>\n",
       "      <td>1</td>\n",
       "      <td>2002-03</td>\n",
       "      <td>Shaquille O'Neal</td>\n",
       "      <td>27.8</td>\n",
       "      <td>29.43</td>\n",
       "    </tr>\n",
       "    <tr>\n",
       "      <td>2</td>\n",
       "      <td>2002-03</td>\n",
       "      <td>Kobe Bryant</td>\n",
       "      <td>31.1</td>\n",
       "      <td>27.07</td>\n",
       "    </tr>\n",
       "    <tr>\n",
       "      <td>3</td>\n",
       "      <td>2002-03</td>\n",
       "      <td>Kevin Garnett</td>\n",
       "      <td>25.0</td>\n",
       "      <td>26.46</td>\n",
       "    </tr>\n",
       "    <tr>\n",
       "      <td>4</td>\n",
       "      <td>2002-03</td>\n",
       "      <td>Tim Duncan</td>\n",
       "      <td>25.7</td>\n",
       "      <td>26.46</td>\n",
       "    </tr>\n",
       "  </tbody>\n",
       "</table>\n",
       "</div>"
      ],
      "text/plain": [
       "    season            player   usg    per\n",
       "0  2002-03     Tracy McGrady  32.6  31.01\n",
       "1  2002-03  Shaquille O'Neal  27.8  29.43\n",
       "2  2002-03       Kobe Bryant  31.1  27.07\n",
       "3  2002-03     Kevin Garnett  25.0  26.46\n",
       "4  2002-03        Tim Duncan  25.7  26.46"
      ]
     },
     "execution_count": 5,
     "metadata": {},
     "output_type": "execute_result"
    }
   ],
   "source": [
    "# only interested in a players PER and usage rate data:\n",
    "performance_data = data[['season', 'player', 'usg', 'per']]\n",
    "print('Number of Rows:' , performance_data.shape[0])\n",
    "print('Number of Columns', performance_data.shape[1])\n",
    "\n",
    "performance_data.head()"
   ]
  },
  {
   "cell_type": "code",
   "execution_count": 6,
   "metadata": {},
   "outputs": [
    {
     "name": "stdout",
     "output_type": "stream",
     "text": [
      "Season:  False    5404\n",
      "Name: season, dtype: int64\n",
      "Player:  False    5404\n",
      "Name: player, dtype: int64\n",
      "Usage:  False    5404\n",
      "Name: usg, dtype: int64\n",
      "PER:  False    5404\n",
      "Name: per, dtype: int64\n"
     ]
    }
   ],
   "source": [
    "# check data for null/missing values: already checked above, but again for completeness\n",
    "check_na = performance_data.isnull()\n",
    "\n",
    "# get a count of null (True) vs non-null (False)\n",
    "print('Season: ', check_na['season'].value_counts())\n",
    "print('Player: ', check_na['player'].value_counts())\n",
    "print('Usage: ', check_na['usg'].value_counts())\n",
    "print('PER: ', check_na['per'].value_counts())"
   ]
  },
  {
   "cell_type": "markdown",
   "metadata": {},
   "source": [
    "The data shows all 5404 rows are populated for each feature of interest"
   ]
  },
  {
   "cell_type": "markdown",
   "metadata": {},
   "source": [
    "#### Exploratory Analysis (PER vs Usage)"
   ]
  },
  {
   "cell_type": "code",
   "execution_count": 7,
   "metadata": {},
   "outputs": [
    {
     "name": "stdout",
     "output_type": "stream",
     "text": [
      "Aggregate Correlation between PER and Usage:  0.6594763097855708\n"
     ]
    },
    {
     "data": {
      "image/png": "[encoded data removed]",
      "text/plain": [
       "<Figure size 432x288 with 1 Axes>"
      ]
     },
     "metadata": {
      "needs_background": "light"
     },
     "output_type": "display_data"
    }
   ],
   "source": [
    "# Scatter plot of Per vs Usage Rate - aggregate data set\n",
    "y = performance_data['per']\n",
    "x = performance_data['usg']\n",
    "\n",
    "corr = y.corr(x)\n",
    "print('Aggregate Correlation between PER and Usage: ', corr)\n",
    "\n",
    "plt.scatter(x, y)\n",
    "plt.title('NBA Player Efficiency Data (2002 - 2018)')\n",
    "plt.xlabel('Usage Rate')\n",
    "plt.ylabel('Player Efficiency Rating (PER)')\n",
    "plt.show()"
   ]
  },
  {
   "cell_type": "markdown",
   "metadata": {},
   "source": [
    "Lets look more into the variance of PER vs Usage, as there seems to be a definite correlation between the two features\n",
    "\n",
    "Will prepare data frame for usage 'bins' and look at the distribution of data within each"
   ]
  },
  {
   "cell_type": "code",
   "execution_count": 8,
   "metadata": {},
   "outputs": [
    {
     "data": {
      "text/plain": [
       "Text(0.5, 0, 'PER and Usage - same axis')"
      ]
     },
     "execution_count": 8,
     "metadata": {},
     "output_type": "execute_result"
    },
    {
     "data": {
      "image/png": "[encoded data removed]",
      "text/plain": [
       "<Figure size 432x288 with 1 Axes>"
      ]
     },
     "metadata": {
      "needs_background": "light"
     },
     "output_type": "display_data"
    }
   ],
   "source": [
    "# histogram with each feature (PER, Usage) on the same histogram - aggregate data\n",
    "\n",
    "ax = performance_data.plot.hist(bins=25, alpha=0.5) # alpha controls transparency of colors\n",
    "ax.set_xlabel('PER and Usage - same axis')"
   ]
  },
  {
   "cell_type": "markdown",
   "metadata": {},
   "source": [
    "We see, althuogh the absolute values in each differ slightly, that the histogram shapes of the 2 variables are quite similar\n",
    "\n",
    "Each has a very small skew, but can be easily approximated as a normal distribution"
   ]
  },
  {
   "cell_type": "code",
   "execution_count": 9,
   "metadata": {},
   "outputs": [
    {
     "name": "stdout",
     "output_type": "stream",
     "text": [
      "8.3 27.5\n"
     ]
    }
   ],
   "source": [
    "# evaluate equal bins of PER/Usage data \n",
    "# Will 'bin' usage data but eliminate outliers via IQR\n",
    "q25, q50, q75 = np.percentile(performance_data['usg'], [25, 50, 75])\n",
    "iqr = q75 - q25\n",
    "\n",
    "# derermine min and max values to be determined an outlier\n",
    "min = round(q25 - iqr, 1)\n",
    "max = round(q75 + iqr, 1)\n",
    "\n",
    "print(min, max)"
   ]
  },
  {
   "cell_type": "markdown",
   "metadata": {},
   "source": [
    "See the max, min to be considered outliers in usage rate is 8.3 and 27.5 - we will eliminate usage rates above and below these thresholds for further analysis"
   ]
  },
  {
   "cell_type": "code",
   "execution_count": 10,
   "metadata": {},
   "outputs": [
    {
     "name": "stdout",
     "output_type": "stream",
     "text": [
      "Q1: 14.6 Q2: 17.5 Q3: 20.7\n"
     ]
    },
    {
     "data": {
      "text/html": [
       "<div>\n",
       "<style scoped>\n",
       "    .dataframe tbody tr th:only-of-type {\n",
       "        vertical-align: middle;\n",
       "    }\n",
       "\n",
       "    .dataframe tbody tr th {\n",
       "        vertical-align: top;\n",
       "    }\n",
       "\n",
       "    .dataframe thead th {\n",
       "        text-align: right;\n",
       "    }\n",
       "</style>\n",
       "<table border=\"1\" class=\"dataframe\">\n",
       "  <thead>\n",
       "    <tr style=\"text-align: right;\">\n",
       "      <th></th>\n",
       "      <th>usg</th>\n",
       "      <th>per</th>\n",
       "    </tr>\n",
       "  </thead>\n",
       "  <tbody>\n",
       "    <tr>\n",
       "      <td>count</td>\n",
       "      <td>5233.000000</td>\n",
       "      <td>5233.000000</td>\n",
       "    </tr>\n",
       "    <tr>\n",
       "      <td>mean</td>\n",
       "      <td>17.669176</td>\n",
       "      <td>13.990010</td>\n",
       "    </tr>\n",
       "    <tr>\n",
       "      <td>std</td>\n",
       "      <td>4.243311</td>\n",
       "      <td>3.927384</td>\n",
       "    </tr>\n",
       "    <tr>\n",
       "      <td>min</td>\n",
       "      <td>0.000000</td>\n",
       "      <td>0.000000</td>\n",
       "    </tr>\n",
       "    <tr>\n",
       "      <td>25%</td>\n",
       "      <td>14.600000</td>\n",
       "      <td>11.230000</td>\n",
       "    </tr>\n",
       "    <tr>\n",
       "      <td>50%</td>\n",
       "      <td>17.500000</td>\n",
       "      <td>13.760000</td>\n",
       "    </tr>\n",
       "    <tr>\n",
       "      <td>75%</td>\n",
       "      <td>20.700000</td>\n",
       "      <td>16.370000</td>\n",
       "    </tr>\n",
       "    <tr>\n",
       "      <td>max</td>\n",
       "      <td>27.500000</td>\n",
       "      <td>30.890000</td>\n",
       "    </tr>\n",
       "  </tbody>\n",
       "</table>\n",
       "</div>"
      ],
      "text/plain": [
       "               usg          per\n",
       "count  5233.000000  5233.000000\n",
       "mean     17.669176    13.990010\n",
       "std       4.243311     3.927384\n",
       "min       0.000000     0.000000\n",
       "25%      14.600000    11.230000\n",
       "50%      17.500000    13.760000\n",
       "75%      20.700000    16.370000\n",
       "max      27.500000    30.890000"
      ]
     },
     "execution_count": 10,
     "metadata": {},
     "output_type": "execute_result"
    }
   ],
   "source": [
    "# first, remove values below 8.3 and above 27.5\n",
    "# will rename perf_data to save a copy of performance_data (aggregate clean data)\n",
    "perf_data = performance_data[performance_data['usg'] >= 8.3]\n",
    "perf_data = performance_data[performance_data['usg'] <= 27.5]\n",
    "\n",
    "# now want to bin the data into equal quartiles\n",
    "des = perf_data['usg'].describe()\n",
    "\n",
    "q1 = des['25%']\n",
    "q2 = des['50%']\n",
    "q3 = des['75%']\n",
    "\n",
    "print('Q1:', q1, 'Q2:', q2, 'Q3:', q3)\n",
    "\n",
    "# summary statistics to ensure data now holds the proper usage rate bounds\n",
    "perf_data.describe()"
   ]
  },
  {
   "cell_type": "code",
   "execution_count": 11,
   "metadata": {},
   "outputs": [
    {
     "name": "stderr",
     "output_type": "stream",
     "text": [
      "C:\\Users\\iaustin\\AppData\\Local\\Continuum\\anaconda3\\lib\\site-packages\\ipykernel_launcher.py:21: SettingWithCopyWarning: \n",
      "A value is trying to be set on a copy of a slice from a DataFrame.\n",
      "Try using .loc[row_indexer,col_indexer] = value instead\n",
      "\n",
      "See the caveats in the documentation: http://pandas.pydata.org/pandas-docs/stable/user_guide/indexing.html#returning-a-view-versus-a-copy\n"
     ]
    },
    {
     "data": {
      "text/html": [
       "<div>\n",
       "<style scoped>\n",
       "    .dataframe tbody tr th:only-of-type {\n",
       "        vertical-align: middle;\n",
       "    }\n",
       "\n",
       "    .dataframe tbody tr th {\n",
       "        vertical-align: top;\n",
       "    }\n",
       "\n",
       "    .dataframe thead th {\n",
       "        text-align: right;\n",
       "    }\n",
       "</style>\n",
       "<table border=\"1\" class=\"dataframe\">\n",
       "  <thead>\n",
       "    <tr style=\"text-align: right;\">\n",
       "      <th></th>\n",
       "      <th>season</th>\n",
       "      <th>player</th>\n",
       "      <th>usg</th>\n",
       "      <th>per</th>\n",
       "      <th>bin</th>\n",
       "    </tr>\n",
       "  </thead>\n",
       "  <tbody>\n",
       "    <tr>\n",
       "      <td>3</td>\n",
       "      <td>2002-03</td>\n",
       "      <td>Kevin Garnett</td>\n",
       "      <td>25.0</td>\n",
       "      <td>26.46</td>\n",
       "      <td>4</td>\n",
       "    </tr>\n",
       "    <tr>\n",
       "      <td>4</td>\n",
       "      <td>2002-03</td>\n",
       "      <td>Tim Duncan</td>\n",
       "      <td>25.7</td>\n",
       "      <td>26.46</td>\n",
       "      <td>4</td>\n",
       "    </tr>\n",
       "    <tr>\n",
       "      <td>5</td>\n",
       "      <td>2002-03</td>\n",
       "      <td>Dirk Nowitzki</td>\n",
       "      <td>24.8</td>\n",
       "      <td>25.94</td>\n",
       "      <td>4</td>\n",
       "    </tr>\n",
       "    <tr>\n",
       "      <td>6</td>\n",
       "      <td>2002-03</td>\n",
       "      <td>Steve Nash</td>\n",
       "      <td>24.0</td>\n",
       "      <td>23.51</td>\n",
       "      <td>4</td>\n",
       "    </tr>\n",
       "    <tr>\n",
       "      <td>8</td>\n",
       "      <td>2002-03</td>\n",
       "      <td>Sam Cassell</td>\n",
       "      <td>25.2</td>\n",
       "      <td>23.08</td>\n",
       "      <td>4</td>\n",
       "    </tr>\n",
       "  </tbody>\n",
       "</table>\n",
       "</div>"
      ],
      "text/plain": [
       "    season         player   usg    per  bin\n",
       "3  2002-03  Kevin Garnett  25.0  26.46    4\n",
       "4  2002-03     Tim Duncan  25.7  26.46    4\n",
       "5  2002-03  Dirk Nowitzki  24.8  25.94    4\n",
       "6  2002-03     Steve Nash  24.0  23.51    4\n",
       "8  2002-03    Sam Cassell  25.2  23.08    4"
      ]
     },
     "execution_count": 11,
     "metadata": {},
     "output_type": "execute_result"
    }
   ],
   "source": [
    "# now will apply binning to the data frame\n",
    "bin_list = []\n",
    "bin\n",
    "for i in perf_data['usg']:\n",
    "    if i >= q3 and i < max:\n",
    "        bin = 4\n",
    "        bin_list.append(bin)\n",
    "    elif i >= q2 and i < q3:\n",
    "        bin = 3\n",
    "        bin_list.append(bin)\n",
    "    elif i >= q1 and i < q2:\n",
    "        bin = 2\n",
    "        bin_list.append(bin)\n",
    "    elif i >= min and i < q1:\n",
    "        bin = 1\n",
    "        bin_list.append(bin)\n",
    "    else:\n",
    "        bin = 0\n",
    "        bin_list.append(bin)\n",
    "\n",
    "perf_data['bin'] = bin_list\n",
    "perf_data.head()"
   ]
  },
  {
   "cell_type": "code",
   "execution_count": 12,
   "metadata": {},
   "outputs": [
    {
     "data": {
      "text/plain": [
       "Text(0.5, 1.0, 'PER across Usage Bins')"
      ]
     },
     "execution_count": 12,
     "metadata": {},
     "output_type": "execute_result"
    },
    {
     "data": {
      "image/png": "[encoded data removed]",
      "text/plain": [
       "<Figure size 720x432 with 1 Axes>"
      ]
     },
     "metadata": {
      "needs_background": "light"
     },
     "output_type": "display_data"
    }
   ],
   "source": [
    "# evaluate each usage bin and its corresponding per data with boxplots\n",
    "# perf data 1: low usage\n",
    "perf_data1 = perf_data[perf_data['bin'] == 1]\n",
    "perf_data1 = perf_data1[perf_data1['per'] > 0]\n",
    "\n",
    "# perf data 2: Low/medium usage\n",
    "perf_data2 = perf_data[perf_data['bin'] == 2]\n",
    "perf_data2 = perf_data2[perf_data2['per'] > 0]\n",
    "\n",
    "# perf data 3: medium/high usage\n",
    "perf_data3 = perf_data[perf_data['bin'] == 3]\n",
    "perf_data3 = perf_data3[perf_data3['per'] > 0]\n",
    "\n",
    "# perf data 4: high usage\n",
    "perf_data4 = perf_data[perf_data['bin'] == 4]\n",
    "perf_data4 = perf_data4[perf_data4['per'] > 0]\n",
    "\n",
    "# plotting box plots:\n",
    "plot_dict = {'Bin 1 - Low': perf_data1['per'], 'Bin 2 - Low/Medium': perf_data2['per'], 'Bin 3 - Medium/High': perf_data3['per'], 'Bin 4 - High': perf_data4['per']}\n",
    "\n",
    "fig, ax= plt.subplots(figsize = (10, 6))\n",
    "\n",
    "ax.boxplot(plot_dict.values())\n",
    "\n",
    "ax.set_xticklabels(plot_dict.keys())\n",
    "\n",
    "plt.ylabel('PER')\n",
    "plt.title('PER across Usage Bins')"
   ]
  },
  {
   "cell_type": "code",
   "execution_count": 13,
   "metadata": {},
   "outputs": [
    {
     "name": "stdout",
     "output_type": "stream",
     "text": [
      "Aggregate Correlation between PER and Usage - no outliers:  0.5958718391502422\n"
     ]
    },
    {
     "data": {
      "image/png": "[encoded data removed]",
      "text/plain": [
       "<Figure size 432x288 with 1 Axes>"
      ]
     },
     "metadata": {
      "needs_background": "light"
     },
     "output_type": "display_data"
    }
   ],
   "source": [
    "# scatter plot of cleaned/outlier-free data\n",
    "y = perf_data['per']\n",
    "x = perf_data['usg']\n",
    "\n",
    "corr = y.corr(x)\n",
    "print('Aggregate Correlation between PER and Usage - no outliers: ', corr)\n",
    "\n",
    "plt.scatter(x, y)\n",
    "plt.title('NBA Player Efficiency Data (2002 - 2018) - Outliers Removed')\n",
    "plt.xlabel('Usage Rate')\n",
    "plt.ylabel('Player Efficiency Rating (PER)')\n",
    "plt.show()"
   ]
  },
  {
   "cell_type": "code",
   "execution_count": 14,
   "metadata": {},
   "outputs": [
    {
     "data": {
      "text/plain": [
       "Text(0.5, 0, 'PER')"
      ]
     },
     "execution_count": 14,
     "metadata": {},
     "output_type": "execute_result"
    },
    {
     "data": {
      "image/png": "[encoded data removed]",
      "text/plain": [
       "<Figure size 432x288 with 1 Axes>"
      ]
     },
     "metadata": {
      "needs_background": "light"
     },
     "output_type": "display_data"
    }
   ],
   "source": [
    "# histogram plots of the cleaned/outlier-free data\n",
    "ax1 = perf_data['usg'].plot.hist(bins=25, alpha=0.5) # alpha controls transparency of colors\n",
    "ax1.set_xlabel('Usage Rate')\n",
    "\n",
    "ax2 = perf_data['per'].plot.hist(bins=25, alpha=0.5)\n",
    "ax2.set_xlabel('PER')"
   ]
  },
  {
   "cell_type": "markdown",
   "metadata": {},
   "source": [
    "Again, evaluating across box plots/bins, we see a fairly linear relationship emerging: the mean PER is rising as usage rises (would need to zom in further to see if the relationship, on a sample, is linear or more of a polynomial)\n",
    "\n",
    "Additionally, checking distributions of each parameter (PER, Usage), they appear to be approximated by a normal distribution"
   ]
  },
  {
   "cell_type": "markdown",
   "metadata": {},
   "source": [
    "#### Correlation between PER and Usage"
   ]
  },
  {
   "cell_type": "markdown",
   "metadata": {},
   "source": [
    "From a simple scatter plot, as well as the more advanced overlayed histograms and box plots, it seems there is a relationship between PER and Usage. Lets test this via correlation coefficients"
   ]
  },
  {
   "cell_type": "code",
   "execution_count": 15,
   "metadata": {},
   "outputs": [
    {
     "name": "stdout",
     "output_type": "stream",
     "text": [
      "Efficiency and Usage correlation - Aggregate Level:  0.6594763097855708\n",
      "Efficiency and Usage correlation - Outliers Removed:  0.5958718391502422\n"
     ]
    }
   ],
   "source": [
    "# first, at the aggregate level (all data)\n",
    "y1 = performance_data['per']\n",
    "x1 = performance_data['usg']\n",
    "agg_corr = y1.corr(x1)\n",
    "\n",
    "# next on the data w/o outliers\n",
    "y2 = perf_data['per']\n",
    "x2 = perf_data['usg']\n",
    "no_outliers_corr = y2.corr(x2)\n",
    "\n",
    "# next on each bin\n",
    "# Bin 4: High Usage\n",
    "y3 = perf_data4['per']\n",
    "x3 = perf_data4['usg']\n",
    "high_usage_corr = y3.corr(x3)\n",
    "\n",
    "# Bin 3: Med/High Usage\n",
    "y4 = perf_data3['per']\n",
    "x4 = perf_data3['usg']\n",
    "med_high_usage_corr = y4.corr(x4)\n",
    "\n",
    "# Bin 2: Low/Med Usage\n",
    "y5 = perf_data2['per']\n",
    "x5 = perf_data2['usg']\n",
    "low_med_usage_corr = y5.corr(x5)\n",
    "\n",
    "# Bin 1: Low Usage\n",
    "y6 = perf_data1['per']\n",
    "x6 = perf_data1['usg']\n",
    "low_usage_corr = y6.corr(x6)\n",
    "\n",
    "\n",
    "print('Efficiency and Usage correlation - Aggregate Level: ', agg_corr)\n",
    "print('Efficiency and Usage correlation - Outliers Removed: ', no_outliers_corr)"
   ]
  },
  {
   "cell_type": "markdown",
   "metadata": {},
   "source": [
    "The 2 variables (PER and Usage) have a moderate positive correlation\n",
    "\n",
    "- When looking at aggregate data, players with higher usage are more efficient\n",
    "- However, there are outliers. When removed, the correlation becomes slightly weaker"
   ]
  },
  {
   "cell_type": "markdown",
   "metadata": {},
   "source": [
    "### Hypothesis Forumlation and Testing"
   ]
  },
  {
   "cell_type": "markdown",
   "metadata": {},
   "source": [
    "#### Hypothesis 1: In general, a players efficiency rises when usage rises"
   ]
  },
  {
   "cell_type": "markdown",
   "metadata": {},
   "source": [
    "In general, this helps explain why certain players get the ball more often, and like separates stars from other players\n",
    "\n",
    "- Null Hypothesis (Ho): in general, a players efficiency will rise with increasing usage\n",
    "- Alternative Hypithesis (Ha): no correlation between usage and efficiency\n",
    "\n",
    "Formal Test: On both an aggregate, and aggregate with outliers removed basis, there is a moderately strong correlation between the two features (usage and efficiency). Based on this, we *****accept***** the null hypothesis"
   ]
  },
  {
   "cell_type": "markdown",
   "metadata": {},
   "source": [
    "#### Hypothesis 2: On a 'zoomed in' level, a players efficiency increase with usage"
   ]
  },
  {
   "cell_type": "markdown",
   "metadata": {},
   "source": [
    "#### Hypothesis 3: A star player will 'age in' to their career and show increasing efficiency with increasing usage"
   ]
  },
  {
   "cell_type": "markdown",
   "metadata": {},
   "source": [
    "### Next Steps in analyzing this data"
   ]
  },
  {
   "cell_type": "markdown",
   "metadata": {},
   "source": [
    "Based on the relationships defined thus far, the following is suggested:\n",
    "\n",
    "- taking the analysis further: given the reasonable correlation (at the aggregate level) and the distribution of the features within the data set, the set looks like a good candidate for predictive modeling\n",
    "- it would be wise to add age/expereince, as well as some measure of whether the player is a star/starter/role player, to the data set for each player. This was we could create a predictive model that takes into account the following to predict a players efficiency:\n",
    "    - usage\n",
    "    - age/experience\n",
    "    - minutes played: to define a players role - not all players PER profile will grow/mature in the same way (more talented players (stars) should expect a bigger experience related jump)\n",
    "- at a first glance, the following analysis are considered:\n",
    "    - Linear (or Polynomial) Regression: if using minutes played as a measure of player role\n",
    "    - Clustering Algorithm: if we introduce a classification of player role (Star, Bench/Role player etc)\n",
    "- Note that minutes played per game is already included in the original data set"
   ]
  },
  {
   "cell_type": "markdown",
   "metadata": {},
   "source": [
    "### Summary of Data Quality"
   ]
  },
  {
   "cell_type": "markdown",
   "metadata": {},
   "source": [
    "Overall, the quality of this data set was excellent, as highlighted by\n",
    "\n",
    "- a lack of null data\n",
    "- the relatively small amount of nonsensical data that needed to be removed for analysis\n",
    "- the fact that the data set was large enough that the features of interest we're essentially norally distributed, even before outlier removal\n",
    "\n",
    "For additional analysis it would be advisable to include the age/NBA experience of each player. This can likely be done by creating a list of birth date (Age calculsted from there) and rookie season (to calculate experience). The additional data could come in the form of a table. Alternatively it ccan be web-scraped from multiple sources and merged (on player name) with the existing data"
   ]
  }
 ],
 "metadata": {
  "kernelspec": {
   "display_name": "Python 3",
   "language": "python",
   "name": "python3"
  },
  "language_info": {
   "codemirror_mode": {
    "name": "ipython",
    "version": 3
   },
   "file_extension": ".py",
   "mimetype": "text/x-python",
   "name": "python",
   "nbconvert_exporter": "python",
   "pygments_lexer": "ipython3",
   "version": "3.7.4"
  }
 },
 "nbformat": 4,
 "nbformat_minor": 4
}
